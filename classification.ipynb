{
 "cells": [
  {
   "cell_type": "markdown",
   "id": "a18cfd11",
   "metadata": {},
   "source": [
    "# Classificação de texto\n",
    "Criaremos modelos de classificação de texto com base em 4 níveis de dificuldade, utilizando o dataset que contém textos escritos por estudantes do Ensino Fundamental I, Ensino Fundamental II, Ensino Médio e Ensino Superior."
   ]
  },
  {
   "cell_type": "code",
   "execution_count": 1,
   "id": "68eef6bc",
   "metadata": {},
   "outputs": [],
   "source": [
    "import pandas as pd\n",
    "import numpy as np"
   ]
  },
  {
   "cell_type": "markdown",
   "id": "5c91c5e0",
   "metadata": {},
   "source": [
    "## Leitura dos dados"
   ]
  },
  {
   "cell_type": "code",
   "execution_count": 2,
   "id": "4109f040",
   "metadata": {},
   "outputs": [],
   "source": [
    "# Create pre-processed dataset from the folders\n",
    "%run src/create_dataset.py"
   ]
  },
  {
   "cell_type": "code",
   "execution_count": 3,
   "id": "a3a7b5ef",
   "metadata": {
    "scrolled": true
   },
   "outputs": [
    {
     "data": {
      "text/html": [
       "<div>\n",
       "<style scoped>\n",
       "    .dataframe tbody tr th:only-of-type {\n",
       "        vertical-align: middle;\n",
       "    }\n",
       "\n",
       "    .dataframe tbody tr th {\n",
       "        vertical-align: top;\n",
       "    }\n",
       "\n",
       "    .dataframe thead th {\n",
       "        text-align: right;\n",
       "    }\n",
       "</style>\n",
       "<table border=\"1\" class=\"dataframe\">\n",
       "  <thead>\n",
       "    <tr style=\"text-align: right;\">\n",
       "      <th></th>\n",
       "      <th>text</th>\n",
       "      <th>label</th>\n",
       "    </tr>\n",
       "    <tr>\n",
       "      <th>id</th>\n",
       "      <th></th>\n",
       "      <th></th>\n",
       "    </tr>\n",
       "  </thead>\n",
       "  <tbody>\n",
       "    <tr>\n",
       "      <th>207_765</th>\n",
       "      <td>nada impede, no entanto, que sejam substituído...</td>\n",
       "      <td>1</td>\n",
       "    </tr>\n",
       "    <tr>\n",
       "      <th>232_790</th>\n",
       "      <td>e muitas palavras faladas por esses povos fora...</td>\n",
       "      <td>1</td>\n",
       "    </tr>\n",
       "    <tr>\n",
       "      <th>39_347</th>\n",
       "      <td>sete séculos antes do nascimento de cristo, o ...</td>\n",
       "      <td>1</td>\n",
       "    </tr>\n",
       "    <tr>\n",
       "      <th>48_379</th>\n",
       "      <td>voar sempre foi um dos grandes sonhos da human...</td>\n",
       "      <td>1</td>\n",
       "    </tr>\n",
       "    <tr>\n",
       "      <th>73_629</th>\n",
       "      <td>para os bolsos de seus senhores, é claro. você...</td>\n",
       "      <td>1</td>\n",
       "    </tr>\n",
       "  </tbody>\n",
       "</table>\n",
       "</div>"
      ],
      "text/plain": [
       "                                                      text  label\n",
       "id                                                               \n",
       "207_765  nada impede, no entanto, que sejam substituído...      1\n",
       "232_790  e muitas palavras faladas por esses povos fora...      1\n",
       "39_347   sete séculos antes do nascimento de cristo, o ...      1\n",
       "48_379   voar sempre foi um dos grandes sonhos da human...      1\n",
       "73_629   para os bolsos de seus senhores, é claro. você...      1"
      ]
     },
     "execution_count": 3,
     "metadata": {},
     "output_type": "execute_result"
    }
   ],
   "source": [
    "# Read dataset into Pandas DataFrame\n",
    "df = pd.read_csv('dataset.csv', index_col='id')\n",
    "df.head()"
   ]
  },
  {
   "cell_type": "code",
   "execution_count": 4,
   "id": "2a3d0f45",
   "metadata": {},
   "outputs": [
    {
     "name": "stdout",
     "output_type": "stream",
     "text": [
      "DataFrame has 2076 rows and 2 columns.\n",
      "DataFrame has no missing data!\n",
      "DataFrame has duplicates!\n"
     ]
    }
   ],
   "source": [
    "shape = df.shape\n",
    "print(f'DataFrame has {shape[0]} rows and {shape[1]} columns.')\n",
    "print('DataFrame has {:s}missing data!'.format('no ' if not df['text'].isna().any() else ''))\n",
    "print('DataFrame has {:s}duplicates!'.format('no ' if not df.index.duplicated().any() else ''))"
   ]
  },
  {
   "cell_type": "code",
   "execution_count": 5,
   "id": "52187a90",
   "metadata": {},
   "outputs": [
    {
     "name": "stdout",
     "output_type": "stream",
     "text": [
      "Removing duplicates...\n"
     ]
    }
   ],
   "source": [
    "print('Removing duplicates...')\n",
    "df = df[~df.index.duplicated()]"
   ]
  },
  {
   "cell_type": "code",
   "execution_count": 6,
   "id": "97801afb",
   "metadata": {
    "scrolled": true
   },
   "outputs": [
    {
     "data": {
      "text/html": [
       "<div>\n",
       "<style scoped>\n",
       "    .dataframe tbody tr th:only-of-type {\n",
       "        vertical-align: middle;\n",
       "    }\n",
       "\n",
       "    .dataframe tbody tr th {\n",
       "        vertical-align: top;\n",
       "    }\n",
       "\n",
       "    .dataframe thead th {\n",
       "        text-align: right;\n",
       "    }\n",
       "</style>\n",
       "<table border=\"1\" class=\"dataframe\">\n",
       "  <thead>\n",
       "    <tr style=\"text-align: right;\">\n",
       "      <th></th>\n",
       "      <th>text</th>\n",
       "    </tr>\n",
       "    <tr>\n",
       "      <th>label</th>\n",
       "      <th></th>\n",
       "    </tr>\n",
       "  </thead>\n",
       "  <tbody>\n",
       "    <tr>\n",
       "      <th>1</th>\n",
       "      <td>297</td>\n",
       "    </tr>\n",
       "    <tr>\n",
       "      <th>2</th>\n",
       "      <td>325</td>\n",
       "    </tr>\n",
       "    <tr>\n",
       "      <th>3</th>\n",
       "      <td>627</td>\n",
       "    </tr>\n",
       "    <tr>\n",
       "      <th>4</th>\n",
       "      <td>826</td>\n",
       "    </tr>\n",
       "  </tbody>\n",
       "</table>\n",
       "</div>"
      ],
      "text/plain": [
       "       text\n",
       "label      \n",
       "1       297\n",
       "2       325\n",
       "3       627\n",
       "4       826"
      ]
     },
     "execution_count": 6,
     "metadata": {},
     "output_type": "execute_result"
    }
   ],
   "source": [
    "df.groupby(['label']).count()"
   ]
  },
  {
   "cell_type": "code",
   "execution_count": 8,
   "id": "2512926b",
   "metadata": {},
   "outputs": [
    {
     "data": {
      "image/png": "[encoded data removed]",
      "text/plain": [
       "<Figure size 432x288 with 1 Axes>"
      ]
     },
     "metadata": {},
     "output_type": "display_data"
    }
   ],
   "source": [
    "import matplotlib.pyplot as plt\n",
    "\n",
    "# Pie chart, where the slices will be ordered and plotted counter-clockwise:\n",
    "sizes = df.groupby(['label']).count().values.ravel()\n",
    "labels = ['(1) Ensino Fundamental I', '(2) Ensino Fundamental II', '(3) Ensino Medio', '(4) Ensino Superior']\n",
    "explode = (0, 0, 0, 0.1)\n",
    "\n",
    "fig1, ax1 = plt.subplots()\n",
    "ax1.pie(sizes, explode=explode, labels=labels, autopct='%1.1f%%',\n",
    "        shadow=True, startangle=90)\n",
    "ax1.axis('equal')  # Equal aspect ratio ensures that pie is drawn as a circle.\n",
    "\n",
    "plt.savefig('figures/class-distribution.png', dpi=200)\n",
    "plt.show()"
   ]
  },
  {
   "cell_type": "markdown",
   "id": "db5b816e",
   "metadata": {},
   "source": [
    "## Divisão do dataset"
   ]
  },
  {
   "cell_type": "code",
   "execution_count": 9,
   "id": "655fb516",
   "metadata": {},
   "outputs": [],
   "source": [
    "from sklearn.model_selection import train_test_split\n",
    "\n",
    "X = df['text']\n",
    "y = df['label']\n",
    "X_train, X_test, y_train, y_test = train_test_split(X, y, test_size=0.25, random_state=32)"
   ]
  },
  {
   "cell_type": "markdown",
   "id": "364d2f4a",
   "metadata": {},
   "source": [
    "## Transformação do dataset"
   ]
  },
  {
   "cell_type": "code",
   "execution_count": 10,
   "id": "c79b84c4",
   "metadata": {},
   "outputs": [],
   "source": [
    "from sklearn.feature_extraction.text import CountVectorizer\n",
    "from sklearn.feature_extraction.text import TfidfTransformer\n",
    "from sklearn.naive_bayes import MultinomialNB\n",
    "from sklearn.svm import LinearSVC\n",
    "from sklearn.pipeline import Pipeline\n",
    "\n",
    "from sklearn.metrics import classification_report\n",
    "from sklearn.metrics import confusion_matrix"
   ]
  },
  {
   "cell_type": "code",
   "execution_count": 11,
   "id": "b04daf40",
   "metadata": {},
   "outputs": [
    {
     "name": "stderr",
     "output_type": "stream",
     "text": [
      "[nltk_data] Downloading package punkt to /home/caio/nltk_data...\n",
      "[nltk_data]   Package punkt is already up-to-date!\n",
      "[nltk_data] Downloading package rslp to /home/caio/nltk_data...\n",
      "[nltk_data]   Package rslp is already up-to-date!\n",
      "[nltk_data] Downloading package stopwords to /home/caio/nltk_data...\n",
      "[nltk_data]   Package stopwords is already up-to-date!\n",
      "[nltk_data] Downloading package averaged_perceptron_tagger to\n",
      "[nltk_data]     /home/caio/nltk_data...\n",
      "[nltk_data]   Package averaged_perceptron_tagger is already up-to-\n",
      "[nltk_data]       date!\n"
     ]
    },
    {
     "data": {
      "text/plain": [
       "True"
      ]
     },
     "execution_count": 11,
     "metadata": {},
     "output_type": "execute_result"
    }
   ],
   "source": [
    "import nltk\n",
    "nltk.download('punkt')\n",
    "nltk.download('rslp')\n",
    "nltk.download('stopwords')\n",
    "nltk.download('averaged_perceptron_tagger')"
   ]
  },
  {
   "cell_type": "code",
   "execution_count": 12,
   "id": "d0f3a22a",
   "metadata": {},
   "outputs": [],
   "source": [
    "def print_confusion_matrix(y_true, y_pred):\n",
    "    conf_matrix = confusion_matrix(y_true, y_pred, normalize='true')\n",
    "    matrix = pd.DataFrame(conf_matrix, columns=[1, 2, 3, 4], index=[1, 2, 3, 4])\n",
    "    print(matrix.round(2))"
   ]
  },
  {
   "cell_type": "code",
   "execution_count": 13,
   "id": "ad8feda1",
   "metadata": {},
   "outputs": [],
   "source": [
    "class CustomPortugueseLemmatizer():\n",
    "    \"\"\"Canonicalize a dataset by applying lemmatization to texts\n",
    "    in the portuguese language with Spacy's \"pt_core_news_sm\" module\n",
    "    \"\"\"\n",
    "    def __init__(self):\n",
    "        import spacy\n",
    "        self.spacy_nlp = spacy.load(\"pt_core_news_sm\")\n",
    "    \n",
    "    # Returns True if the word is in CV (consonant-vowel) format or False if it is not\n",
    "    def is_canonical(self, word):\n",
    "        canonical = True\n",
    "        seq = iter(word)\n",
    "\n",
    "        for c in seq:\n",
    "            if c not in 'bcdfghjklmnpqrstvwxyzç':\n",
    "                canonical = False\n",
    "                break\n",
    "            else:\n",
    "                try:\n",
    "                    n = next(seq)\n",
    "                except StopIteration as e:\n",
    "                    canonical = False\n",
    "                    break\n",
    "                if n not in 'aeiouáàãâéêíóõôúü':\n",
    "                    canonical = False\n",
    "                    break\n",
    "        return canonical\n",
    "    \n",
    "    def remove_case(self, token):\n",
    "        return (\n",
    "            token.is_stop \n",
    "            or any(c.isdigit() for c in token.text) \n",
    "            or token.pos_ == 'PUNCT' \n",
    "            or token.pos_ == 'NUM' \n",
    "            or token.pos_ == 'SPACE' \n",
    "            or token.pos_ == 'SYM' \n",
    "            or token.pos_ == 'X'\n",
    "               )\n",
    "    \n",
    "    def fit(self, raw_documents, y=None):\n",
    "        return self\n",
    "    \n",
    "    def transform(self, raw_documents):\n",
    "        X = []\n",
    "        for text in raw_documents:\n",
    "            word_list = []\n",
    "            cv_list = []\n",
    "            for token in self.spacy_nlp(text):\n",
    "                # only append useful words, excluding stop words, numbers, \n",
    "                # spaces, punctuations, symbols and unknown characters\n",
    "                if not self.remove_case(token): \n",
    "                    word = token.lemma_.lower()\n",
    "                    word_list.append(word)\n",
    "                    # assign if word is in CV (consonant-vowel) format or if it is not defined\n",
    "                    # word = word + '_cv' if is_canonical(word) else word + '_nd'\n",
    "                    cv_list.append('is_cv' if self.is_canonical(word) else 'not_cv')\n",
    "\n",
    "            sentence = ' '.join(word_list)\n",
    "            sentence += ' '\n",
    "            sentence += ' '.join(cv_list)\n",
    "            X.append(sentence)\n",
    "        return X\n",
    "    \n",
    "    def fit_transform(self, raw_documents, y=None):\n",
    "        return self.fit(raw_documents, y).transform(raw_documents)"
   ]
  },
  {
   "cell_type": "code",
   "execution_count": 14,
   "id": "e86a1842",
   "metadata": {},
   "outputs": [
    {
     "data": {
      "text/html": [
       "<div>\n",
       "<style scoped>\n",
       "    .dataframe tbody tr th:only-of-type {\n",
       "        vertical-align: middle;\n",
       "    }\n",
       "\n",
       "    .dataframe tbody tr th {\n",
       "        vertical-align: top;\n",
       "    }\n",
       "\n",
       "    .dataframe thead th {\n",
       "        text-align: right;\n",
       "    }\n",
       "</style>\n",
       "<table border=\"1\" class=\"dataframe\">\n",
       "  <thead>\n",
       "    <tr style=\"text-align: right;\">\n",
       "      <th></th>\n",
       "      <th>a_f</th>\n",
       "      <th>a_i</th>\n",
       "      <th>a_n</th>\n",
       "      <th>aan</th>\n",
       "      <th>aapt</th>\n",
       "      <th>aatp</th>\n",
       "      <th>ab</th>\n",
       "      <th>abacate</th>\n",
       "      <th>abacaxi</th>\n",
       "      <th>abaixar</th>\n",
       "      <th>...</th>\n",
       "      <th>ρdv</th>\n",
       "      <th>ρdz</th>\n",
       "      <th>ρrt</th>\n",
       "      <th>ρv</th>\n",
       "      <th>ρva</th>\n",
       "      <th>ρρ</th>\n",
       "      <th>ρρv</th>\n",
       "      <th>ρψ</th>\n",
       "      <th>ωr</th>\n",
       "      <th>मकष</th>\n",
       "    </tr>\n",
       "  </thead>\n",
       "  <tbody>\n",
       "    <tr>\n",
       "      <th>0</th>\n",
       "      <td>0.0</td>\n",
       "      <td>0.0</td>\n",
       "      <td>0.0</td>\n",
       "      <td>0.0</td>\n",
       "      <td>0.0</td>\n",
       "      <td>0.0</td>\n",
       "      <td>0.0</td>\n",
       "      <td>0.0</td>\n",
       "      <td>0.0</td>\n",
       "      <td>0.0</td>\n",
       "      <td>...</td>\n",
       "      <td>0.0</td>\n",
       "      <td>0.0</td>\n",
       "      <td>0.0</td>\n",
       "      <td>0.0</td>\n",
       "      <td>0.0</td>\n",
       "      <td>0.0</td>\n",
       "      <td>0.0</td>\n",
       "      <td>0.0</td>\n",
       "      <td>0.0</td>\n",
       "      <td>0.0</td>\n",
       "    </tr>\n",
       "    <tr>\n",
       "      <th>1</th>\n",
       "      <td>0.0</td>\n",
       "      <td>0.0</td>\n",
       "      <td>0.0</td>\n",
       "      <td>0.0</td>\n",
       "      <td>0.0</td>\n",
       "      <td>0.0</td>\n",
       "      <td>0.0</td>\n",
       "      <td>0.0</td>\n",
       "      <td>0.0</td>\n",
       "      <td>0.0</td>\n",
       "      <td>...</td>\n",
       "      <td>0.0</td>\n",
       "      <td>0.0</td>\n",
       "      <td>0.0</td>\n",
       "      <td>0.0</td>\n",
       "      <td>0.0</td>\n",
       "      <td>0.0</td>\n",
       "      <td>0.0</td>\n",
       "      <td>0.0</td>\n",
       "      <td>0.0</td>\n",
       "      <td>0.0</td>\n",
       "    </tr>\n",
       "    <tr>\n",
       "      <th>2</th>\n",
       "      <td>0.0</td>\n",
       "      <td>0.0</td>\n",
       "      <td>0.0</td>\n",
       "      <td>0.0</td>\n",
       "      <td>0.0</td>\n",
       "      <td>0.0</td>\n",
       "      <td>0.0</td>\n",
       "      <td>0.0</td>\n",
       "      <td>0.0</td>\n",
       "      <td>0.0</td>\n",
       "      <td>...</td>\n",
       "      <td>0.0</td>\n",
       "      <td>0.0</td>\n",
       "      <td>0.0</td>\n",
       "      <td>0.0</td>\n",
       "      <td>0.0</td>\n",
       "      <td>0.0</td>\n",
       "      <td>0.0</td>\n",
       "      <td>0.0</td>\n",
       "      <td>0.0</td>\n",
       "      <td>0.0</td>\n",
       "    </tr>\n",
       "    <tr>\n",
       "      <th>3</th>\n",
       "      <td>0.0</td>\n",
       "      <td>0.0</td>\n",
       "      <td>0.0</td>\n",
       "      <td>0.0</td>\n",
       "      <td>0.0</td>\n",
       "      <td>0.0</td>\n",
       "      <td>0.0</td>\n",
       "      <td>0.0</td>\n",
       "      <td>0.0</td>\n",
       "      <td>0.0</td>\n",
       "      <td>...</td>\n",
       "      <td>0.0</td>\n",
       "      <td>0.0</td>\n",
       "      <td>0.0</td>\n",
       "      <td>0.0</td>\n",
       "      <td>0.0</td>\n",
       "      <td>0.0</td>\n",
       "      <td>0.0</td>\n",
       "      <td>0.0</td>\n",
       "      <td>0.0</td>\n",
       "      <td>0.0</td>\n",
       "    </tr>\n",
       "    <tr>\n",
       "      <th>4</th>\n",
       "      <td>0.0</td>\n",
       "      <td>0.0</td>\n",
       "      <td>0.0</td>\n",
       "      <td>0.0</td>\n",
       "      <td>0.0</td>\n",
       "      <td>0.0</td>\n",
       "      <td>0.0</td>\n",
       "      <td>0.0</td>\n",
       "      <td>0.0</td>\n",
       "      <td>0.0</td>\n",
       "      <td>...</td>\n",
       "      <td>0.0</td>\n",
       "      <td>0.0</td>\n",
       "      <td>0.0</td>\n",
       "      <td>0.0</td>\n",
       "      <td>0.0</td>\n",
       "      <td>0.0</td>\n",
       "      <td>0.0</td>\n",
       "      <td>0.0</td>\n",
       "      <td>0.0</td>\n",
       "      <td>0.0</td>\n",
       "    </tr>\n",
       "  </tbody>\n",
       "</table>\n",
       "<p>5 rows × 23449 columns</p>\n",
       "</div>"
      ],
      "text/plain": [
       "   a_f  a_i  a_n  aan  aapt  aatp   ab  abacate  abacaxi  abaixar  ...  ρdv  \\\n",
       "0  0.0  0.0  0.0  0.0   0.0   0.0  0.0      0.0      0.0      0.0  ...  0.0   \n",
       "1  0.0  0.0  0.0  0.0   0.0   0.0  0.0      0.0      0.0      0.0  ...  0.0   \n",
       "2  0.0  0.0  0.0  0.0   0.0   0.0  0.0      0.0      0.0      0.0  ...  0.0   \n",
       "3  0.0  0.0  0.0  0.0   0.0   0.0  0.0      0.0      0.0      0.0  ...  0.0   \n",
       "4  0.0  0.0  0.0  0.0   0.0   0.0  0.0      0.0      0.0      0.0  ...  0.0   \n",
       "\n",
       "   ρdz  ρrt   ρv  ρva   ρρ  ρρv   ρψ   ωr  मकष  \n",
       "0  0.0  0.0  0.0  0.0  0.0  0.0  0.0  0.0  0.0  \n",
       "1  0.0  0.0  0.0  0.0  0.0  0.0  0.0  0.0  0.0  \n",
       "2  0.0  0.0  0.0  0.0  0.0  0.0  0.0  0.0  0.0  \n",
       "3  0.0  0.0  0.0  0.0  0.0  0.0  0.0  0.0  0.0  \n",
       "4  0.0  0.0  0.0  0.0  0.0  0.0  0.0  0.0  0.0  \n",
       "\n",
       "[5 rows x 23449 columns]"
      ]
     },
     "execution_count": 14,
     "metadata": {},
     "output_type": "execute_result"
    }
   ],
   "source": [
    "lem = CustomPortugueseLemmatizer()\n",
    "lem = lem.fit(X_train, y_train)\n",
    "X_train_trans = lem.transform(X_train)\n",
    "\n",
    "count_vect = CountVectorizer()\n",
    "count_matrix = count_vect.fit_transform(X_train_trans)\n",
    "count_array = count_matrix.toarray()\n",
    "\n",
    "tfidf_trans = TfidfTransformer()\n",
    "tfidf_matrix = tfidf_trans.fit_transform(count_matrix)\n",
    "tfidf_array = tfidf_matrix.toarray()\n",
    "tfidf_df = pd.DataFrame(data=tfidf_array, columns = count_vect.get_feature_names_out())\n",
    "tfidf_df.head()"
   ]
  },
  {
   "cell_type": "code",
   "execution_count": 15,
   "id": "4080aea0",
   "metadata": {},
   "outputs": [
    {
     "name": "stdout",
     "output_type": "stream",
     "text": [
      "Frequência de palavras canônicas\n",
      "0       0.067681\n",
      "1       0.102084\n",
      "2       0.122346\n",
      "3       0.059515\n",
      "4       0.093320\n",
      "          ...   \n",
      "1551    0.038875\n",
      "1552    0.105381\n",
      "1553    0.087607\n",
      "1554    0.014886\n",
      "1555    0.020574\n",
      "Name: is_cv, Length: 1556, dtype: float64\n"
     ]
    }
   ],
   "source": [
    "print('Frequência de palavras canônicas')\n",
    "print(tfidf_df['is_cv'])"
   ]
  },
  {
   "cell_type": "code",
   "execution_count": 16,
   "id": "f028652c",
   "metadata": {},
   "outputs": [
    {
     "name": "stdout",
     "output_type": "stream",
     "text": [
      "o sistema nervoso autônomo, responsável pelos movimentos involuntários do corpo, percebe o balanço da embarcação, em razão as variações consecutivas na posição do labirinto do ouvido, que comanda o equilíbrio do organismo. isso causa uma série de alterações orgânicas, como vertigem, contração do estômago e secreção dos sucos gástricos, provocando mal-estar e vômito. quais são as causas do ronco ?  é a obstrução parcial das vias respiratórias, que pode ocorrer em razão de um desvio de septo nasal, de rinites ou sinusites. a obstrução relaxa os músculos do tórax, o que induz à abertura involuntária da boca. o ar, entrando na boca, encontra resistência à sua passagem na língua, na úvula (a campainha)  e nas tonsilas. por isso, vibra e faz aquele barulho de britadeira. o que é sonambulismo ?  ele é provocado por uma arritmia cerebral, geralmente hereditária, e acontece com mais frequência entre crianças de três a dez anos. trata-se de um distúrbio benigno que ocorre na primeira das seis passagens noturnas de um sono mais profundo para um mais superficial. as funções motoras despertam enquanto a consciência continua dormindo. o sonâmbulo se movimenta, mas não sabe o que está acontecendo. a literatura de cordel é uma manifestação da cultura popular tradicional, também chamada de folheto ou romance. nascida no interior do nordeste, espalhou-se por todo o país, pelo processo migratório do sertanejo-nordestino. de conteúdo muito diverso, essa literatura oral, que abrange inúmeras modalidades, comemorou cem anos no brasil. o folheto é a forma tradicional de impressão. as capas geralmente são feitas em xilogravura. os sentidos dos poemas visuais apresentados a seguir são construídos pela integração dos elementos (palavras e imagem)  que os compõem, ou seja, neles, texto e imagem não podem ser lidos ou vistos separadamente, e sim como um todo. você já se encantou com alguma história que ouviu ?  as histórias contadas de boca em boca encantam porque tocam em algo que nós, seres humanos, temos: a imaginação.\n"
     ]
    }
   ],
   "source": [
    "print(X_train[0])"
   ]
  },
  {
   "cell_type": "code",
   "execution_count": 17,
   "id": "54ef550f",
   "metadata": {},
   "outputs": [
    {
     "name": "stdout",
     "output_type": "stream",
     "text": [
      "nervoso autônomo responsável movimento involuntário corpo perceber balançar embarcação razão variação consecutivo labirinto ouvir comandar equilíbrio organismo causar série alteração orgânico vertigem contração estômago secreção suco gástrico provocar mal-estar vômito causar roncar obstrução parcial via respiratório ocorrer razão desviar septo nasal rinite sinusite obstrução relaxar músculo tórax induzir abertura involuntário bocar ar entrar bocar encontrar resistência passagem língua úvula campainha tonsila vibrar barulhar britador sonambulismo provocar arritmia cerebral geralmente hereditário acontecer frequência criança ano trata-se distúrbio benigno ocorrer passagem noturnas sono profundar superficial função motor despertar consciência continuar dormir sonâmbulo movimentar acontecer literatura cordel manifestação cultura popular tradicional chamar folheto romance nascido interior nordeste espalhou-se país processar migratório sertanejo-nordestino conteúdo diverso literatura oral abranger inúmero modalidade comemorar ano brasil folheto tradicional impressão capar geralmente feito xilogravura sentir poema visual apresentar seguir construir integração elemento palavra imagem compor ser nele texto imagem lido visto separadamente encantar algum história ouvir história contar bocar bocar encantar tocar ser humano imaginação not_cv not_cv not_cv not_cv not_cv not_cv not_cv not_cv not_cv not_cv not_cv not_cv not_cv not_cv not_cv not_cv not_cv not_cv not_cv not_cv not_cv not_cv not_cv not_cv not_cv is_cv not_cv not_cv not_cv is_cv not_cv not_cv not_cv not_cv not_cv not_cv not_cv not_cv not_cv not_cv not_cv is_cv is_cv not_cv not_cv not_cv not_cv not_cv not_cv not_cv not_cv not_cv not_cv not_cv not_cv not_cv not_cv not_cv not_cv not_cv not_cv not_cv not_cv not_cv not_cv not_cv not_cv not_cv not_cv not_cv not_cv not_cv not_cv not_cv not_cv not_cv not_cv not_cv not_cv not_cv is_cv not_cv not_cv not_cv not_cv not_cv not_cv not_cv not_cv not_cv not_cv not_cv is_cv not_cv not_cv not_cv not_cv not_cv not_cv not_cv not_cv not_cv not_cv not_cv not_cv not_cv not_cv not_cv not_cv not_cv not_cv is_cv not_cv not_cv not_cv is_cv not_cv not_cv not_cv not_cv not_cv not_cv not_cv not_cv not_cv not_cv not_cv not_cv not_cv not_cv not_cv not_cv not_cv not_cv not_cv not_cv not_cv not_cv is_cv not_cv not_cv is_cv not_cv not_cv not_cv not_cv not_cv not_cv not_cv not_cv not_cv not_cv not_cv not_cv not_cv is_cv not_cv\n"
     ]
    }
   ],
   "source": [
    "print(X_train_trans[0])"
   ]
  },
  {
   "cell_type": "markdown",
   "id": "ef88b2ac",
   "metadata": {},
   "source": [
    "## Modelos de classificação"
   ]
  },
  {
   "cell_type": "code",
   "execution_count": 18,
   "id": "f12f3b9b",
   "metadata": {
    "scrolled": false
   },
   "outputs": [
    {
     "name": "stdout",
     "output_type": "stream",
     "text": [
      "Naive Bayes Normalized Confusion Matrix\n",
      "     1    2     3     4\n",
      "1  0.0  0.0  0.45  0.55\n",
      "2  0.0  0.0  0.18  0.82\n",
      "3  0.0  0.0  0.60  0.40\n",
      "4  0.0  0.0  0.01  0.99\n",
      "\n",
      "              precision    recall  f1-score   support\n",
      "\n",
      "           1       0.00      0.00      0.00        74\n",
      "           2       0.00      0.00      0.00        93\n",
      "           3       0.61      0.60      0.61       134\n",
      "           4       0.56      0.99      0.72       218\n",
      "\n",
      "    accuracy                           0.57       519\n",
      "   macro avg       0.29      0.40      0.33       519\n",
      "weighted avg       0.39      0.57      0.46       519\n",
      "\n"
     ]
    }
   ],
   "source": [
    "# Create Pipeline to automatically vectorize and transform the input data before classifying\n",
    "pipeNB = Pipeline([('lemmatizer', CustomPortugueseLemmatizer()), \n",
    "                    ('vectorizer', CountVectorizer()),\n",
    "                     ('tfidf', TfidfTransformer()),\n",
    "                     ('clf', MultinomialNB()), \n",
    "])\n",
    "\n",
    "# Multinomial Naive Bayes\n",
    "\n",
    "pipeNB = pipeNB.fit(X_train, y_train)\n",
    "\n",
    "predictions_NB = pipeNB.predict(X_test)\n",
    "\n",
    "print('Naive Bayes Normalized Confusion Matrix')\n",
    "print_confusion_matrix(y_test, predictions_NB)\n",
    "print()\n",
    "print(classification_report(y_test, predictions_NB, digits=2, zero_division=0))"
   ]
  },
  {
   "cell_type": "code",
   "execution_count": 19,
   "id": "a704bf2e",
   "metadata": {},
   "outputs": [
    {
     "name": "stdout",
     "output_type": "stream",
     "text": [
      "Linear SVC Normalized Confusion Matrix\n",
      "      1     2     3     4\n",
      "1  0.89  0.04  0.07  0.00\n",
      "2  0.08  0.76  0.14  0.02\n",
      "3  0.00  0.01  0.90  0.09\n",
      "4  0.00  0.00  0.02  0.98\n",
      "\n",
      "              precision    recall  f1-score   support\n",
      "\n",
      "           1       0.90      0.89      0.90        74\n",
      "           2       0.95      0.76      0.85        93\n",
      "           3       0.84      0.90      0.87       134\n",
      "           4       0.94      0.98      0.96       218\n",
      "\n",
      "    accuracy                           0.91       519\n",
      "   macro avg       0.91      0.88      0.89       519\n",
      "weighted avg       0.91      0.91      0.91       519\n",
      "\n"
     ]
    }
   ],
   "source": [
    "# Create Pipeline to automatically vectorize and transform the input data before classifying\n",
    "pipeSVC = Pipeline([('lemmatizer', CustomPortugueseLemmatizer()), \n",
    "                    ('vectorizer', CountVectorizer()),\n",
    "                     ('tfidf', TfidfTransformer()),\n",
    "                     ('clf', LinearSVC(C=1.0, random_state=21)),\n",
    "])\n",
    "\n",
    "# Linear Support Vector Classifier\n",
    "\n",
    "pipeSVC = pipeSVC.fit(X_train, y_train)\n",
    "\n",
    "predictions_SVC = pipeSVC.predict(X_test)\n",
    "\n",
    "print('Linear SVC Normalized Confusion Matrix')\n",
    "print_confusion_matrix(y_test, predictions_SVC)\n",
    "print()\n",
    "print(classification_report(y_test, predictions_SVC, digits=2, zero_division=0))"
   ]
  },
  {
   "cell_type": "markdown",
   "id": "203e4940",
   "metadata": {},
   "source": [
    "## Classificando um novo texto"
   ]
  },
  {
   "cell_type": "code",
   "execution_count": 20,
   "id": "8d1d3b41",
   "metadata": {},
   "outputs": [
    {
     "name": "stdout",
     "output_type": "stream",
     "text": [
      "português/morfologia(2)  modernamente, observamos que os alunos de 1º e 2º graus utilizam gramáticas em seu estudo da língua, mas para nossa preocupação, essas não possuem, quase sempre, base científica por não se basearem em estudos lingüísticos. é importante para nós que um estudo gramatical tenha uma relevância lingüística e, por isso, resolvemos fazer um trabalho que mostre o atual conteúdo de morfologia estudado nas escolas e uma alternativa de conteúdo mais racional, embasado em princípios científicos. inicialmente, proporemos um conceito de morfologia, passando à diferença entre vocábulo e palavra, uma vez que tais termos são usados indistintamente pelos gramáticos, chegando, enfim, ao problema crucial: o que são classes e o que são funções dos vocábulos ?  o objetivo deste trabalho é aprofundar teorias científicas que justifiquem uma alteração significativa no conteúdo ministrado, hoje, no estudo morfológico, tornando o ensino gramatical mais racional e científico. é também objetivo do trabalho fazer um estudo critico sobre a validade do atual estudo de morfologia em nossas escolas hoje, como também a necessidade de se produzir um manual que oriente docentes e discentes no estudo morfológico. entre as hipóteses levantadas, acreditamos ser a de maior relevância a diferenciação entre o que seja classe gramatical e o que seja função gramatical. as gramáticas atuais dividem os vocábulos atuais em dez classes gramaticais, enquanto tentaremos justificar a existência de apenas três classes gramaticais e outras três funções. outra hipótese é a falta de base científica nos estudos gramaticais de nossas escolas. os estudos gramaticais são prescritivos e não conseguem dar respostas a questionamentos simples, como, por exemplo, por que classificamos o vocábulo menino como substantivo quando ele pode funcionar como adjetivo ?  para fazer este estudo, tomamos como referência maior a teoria do professor josé lemos monteiro, em seu livro \"morfologia portuguesa\", e os estudos do professor joaquim mattoso câmara júnior, em seu livro \"princípios de lingüística geral\", por entendermos ser o que de mais racional existe hoje em termos de morfologia. este trabalho coloca as teorias gramaticais prescritivas e, em seguida, contrapõe-na com as teorias lingüísticas, num trabalho de pesquisa bibliográfica, acrescido do ponto de vista defendido na hipótese, sexto parágrafo dessa introdução.\n"
     ]
    }
   ],
   "source": [
    "# Retrieve the last text from the test set\n",
    "text = X_test.iloc[-1]\n",
    "print(text)"
   ]
  },
  {
   "cell_type": "code",
   "execution_count": 21,
   "id": "3decfb80",
   "metadata": {},
   "outputs": [
    {
     "name": "stdout",
     "output_type": "stream",
     "text": [
      "Naive Bayes label: [3]\n",
      "SVC label: [3]\n",
      "Correct label: 3\n"
     ]
    }
   ],
   "source": [
    "# Create list of texts to predict\n",
    "X_eval = [text]\n",
    "label_NB = pipeNB.predict(X_eval)\n",
    "label_SVC = pipeSVC.predict(X_eval)\n",
    "\n",
    "print(f'Naive Bayes label: {label_NB}')\n",
    "print(f'SVC label: {label_SVC}')\n",
    "print(f'Correct label: {y_test[-1]}')"
   ]
  },
  {
   "cell_type": "markdown",
   "id": "4af80933",
   "metadata": {},
   "source": [
    "## Salvar modelos em pickle"
   ]
  },
  {
   "cell_type": "code",
   "execution_count": 22,
   "id": "b926834c",
   "metadata": {},
   "outputs": [],
   "source": [
    "import pickle\n",
    "import os\n",
    "\n",
    "path = 'pickle'\n",
    "if not os.path.isdir(path):\n",
    "    os.mkdir(path)\n",
    "\n",
    "# Save Naive Bayes pipeline to pickle\n",
    "with open(f'{path}/pipeline_NB.pickle', 'wb') as nb_pickle:\n",
    "    pickle.dump(pipeNB, nb_pickle)\n",
    "\n",
    "# Save SVC pipeline to pickle\n",
    "with open(f'{path}/pipeline_SVC.pickle', 'wb') as svc_pickle:\n",
    "    pickle.dump(pipeSVC, svc_pickle)"
   ]
  },
  {
   "cell_type": "code",
   "execution_count": null,
   "id": "71ec1fc2",
   "metadata": {},
   "outputs": [],
   "source": []
  }
 ],
 "metadata": {
  "kernelspec": {
   "display_name": "Python 3 (ipykernel)",
   "language": "python",
   "name": "python3"
  },
  "language_info": {
   "codemirror_mode": {
    "name": "ipython",
    "version": 3
   },
   "file_extension": ".py",
   "mimetype": "text/x-python",
   "name": "python",
   "nbconvert_exporter": "python",
   "pygments_lexer": "ipython3",
   "version": "3.7.11"
  }
 },
 "nbformat": 4,
 "nbformat_minor": 5
}
