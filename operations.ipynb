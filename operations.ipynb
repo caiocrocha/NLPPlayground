{
 "cells": [
  {
   "cell_type": "markdown",
   "id": "5ec6600d",
   "metadata": {},
   "source": [
    "# Operações de mutação\n",
    "Após executar o notebook de **classificação**, podemos realizar operações de mutação no texto para verificar qual impacto elas têm na classificação dos níveis de dificuldade do texto."
   ]
  },
  {
   "cell_type": "code",
   "execution_count": 1,
   "id": "98929091",
   "metadata": {},
   "outputs": [],
   "source": [
    "import pandas as pd\n",
    "import numpy as np\n",
    "import random\n",
    "\n",
    "random.seed(8)"
   ]
  },
  {
   "cell_type": "markdown",
   "id": "2aca7689",
   "metadata": {},
   "source": [
    "## Leitura dos dados"
   ]
  },
  {
   "cell_type": "code",
   "execution_count": 2,
   "id": "5e663a5b",
   "metadata": {},
   "outputs": [
    {
     "data": {
      "text/html": [
       "<div>\n",
       "<style scoped>\n",
       "    .dataframe tbody tr th:only-of-type {\n",
       "        vertical-align: middle;\n",
       "    }\n",
       "\n",
       "    .dataframe tbody tr th {\n",
       "        vertical-align: top;\n",
       "    }\n",
       "\n",
       "    .dataframe thead th {\n",
       "        text-align: right;\n",
       "    }\n",
       "</style>\n",
       "<table border=\"1\" class=\"dataframe\">\n",
       "  <thead>\n",
       "    <tr style=\"text-align: right;\">\n",
       "      <th></th>\n",
       "      <th>text</th>\n",
       "      <th>label</th>\n",
       "    </tr>\n",
       "    <tr>\n",
       "      <th>id</th>\n",
       "      <th></th>\n",
       "      <th></th>\n",
       "    </tr>\n",
       "  </thead>\n",
       "  <tbody>\n",
       "    <tr>\n",
       "      <th>207_765</th>\n",
       "      <td>nada impede, no entanto, que sejam substituído...</td>\n",
       "      <td>1</td>\n",
       "    </tr>\n",
       "    <tr>\n",
       "      <th>232_790</th>\n",
       "      <td>e muitas palavras faladas por esses povos fora...</td>\n",
       "      <td>1</td>\n",
       "    </tr>\n",
       "    <tr>\n",
       "      <th>39_347</th>\n",
       "      <td>sete séculos antes do nascimento de cristo, o ...</td>\n",
       "      <td>1</td>\n",
       "    </tr>\n",
       "    <tr>\n",
       "      <th>48_379</th>\n",
       "      <td>voar sempre foi um dos grandes sonhos da human...</td>\n",
       "      <td>1</td>\n",
       "    </tr>\n",
       "    <tr>\n",
       "      <th>73_629</th>\n",
       "      <td>para os bolsos de seus senhores, é claro. você...</td>\n",
       "      <td>1</td>\n",
       "    </tr>\n",
       "  </tbody>\n",
       "</table>\n",
       "</div>"
      ],
      "text/plain": [
       "                                                      text  label\n",
       "id                                                               \n",
       "207_765  nada impede, no entanto, que sejam substituído...      1\n",
       "232_790  e muitas palavras faladas por esses povos fora...      1\n",
       "39_347   sete séculos antes do nascimento de cristo, o ...      1\n",
       "48_379   voar sempre foi um dos grandes sonhos da human...      1\n",
       "73_629   para os bolsos de seus senhores, é claro. você...      1"
      ]
     },
     "execution_count": 2,
     "metadata": {},
     "output_type": "execute_result"
    }
   ],
   "source": [
    "# Read dataset into Pandas DataFrame\n",
    "df = pd.read_csv('dataset.csv', index_col='id')\n",
    "df.head()"
   ]
  },
  {
   "cell_type": "code",
   "execution_count": 3,
   "id": "4e8e1bef",
   "metadata": {
    "scrolled": true
   },
   "outputs": [
    {
     "name": "stderr",
     "output_type": "stream",
     "text": [
      "[nltk_data] Downloading package wordnet to /home/caio/nltk_data...\n",
      "[nltk_data]   Package wordnet is already up-to-date!\n",
      "[nltk_data] Downloading package omw-1.4 to /home/caio/nltk_data...\n",
      "[nltk_data]   Package omw-1.4 is already up-to-date!\n"
     ]
    },
    {
     "data": {
      "text/plain": [
       "True"
      ]
     },
     "execution_count": 3,
     "metadata": {},
     "output_type": "execute_result"
    }
   ],
   "source": [
    "# download nltk required packages\n",
    "import nltk\n",
    "nltk.download('wordnet')\n",
    "nltk.download('omw-1.4')"
   ]
  },
  {
   "cell_type": "code",
   "execution_count": 4,
   "id": "d29b2b4b",
   "metadata": {},
   "outputs": [],
   "source": [
    "import pickle\n",
    "import os\n",
    "from src.CustomPortugueseLemmatizer import CustomPortugueseLemmatizer\n",
    "\n",
    "path = 'pickle'\n",
    "if os.path.isdir(path):\n",
    "    # Read the Naive Bayes classifier from pickle\n",
    "    with open(f'{path}/pipeline_NB.pickle', 'rb') as nb_pickle:\n",
    "        pipeNB = pickle.load(nb_pickle)\n",
    "\n",
    "    # Read the SVC classifier from pickle\n",
    "    with open(f'{path}/pipeline_SVC.pickle', 'rb') as svc_pickle:\n",
    "        pipeSVC = pickle.load(svc_pickle)"
   ]
  },
  {
   "cell_type": "markdown",
   "id": "93183980",
   "metadata": {},
   "source": [
    "## Troca de palavras"
   ]
  },
  {
   "cell_type": "code",
   "execution_count": 5,
   "id": "ad334c82",
   "metadata": {},
   "outputs": [],
   "source": [
    "from nltk.corpus import wordnet \n",
    "\n",
    "def get_synonyms(word):\n",
    "    \"\"\"\n",
    "    Get synonyms of a word\n",
    "    \"\"\"\n",
    "    synonyms = set()\n",
    "    \n",
    "    for syn in wordnet.synsets(word, lang='por'): \n",
    "        for l in syn.lemmas(lang='por'): \n",
    "            synonym = l.name().replace(\"_\", \" \").replace(\"-\", \" \").lower()\n",
    "            synonym = \"\".join([char for char in synonym if char in ' qwertyuiopasdfghjklçzxcvbnmáàãâéêíóõôúü'])\n",
    "            synonyms.add(synonym) \n",
    "    \n",
    "    if word in synonyms:\n",
    "        synonyms.remove(word)\n",
    "    \n",
    "    return list(synonyms)"
   ]
  },
  {
   "cell_type": "code",
   "execution_count": 6,
   "id": "02551369",
   "metadata": {},
   "outputs": [],
   "source": [
    "def synonym_replacement(words, stop_words, n):\n",
    "    if n <= 0: # no word to replace, return the original text\n",
    "        return words\n",
    "        \n",
    "    words = words.split()\n",
    "\n",
    "    new_words = words.copy()\n",
    "    random_word_list = list(set([word for word in words if word not in stop_words]))\n",
    "    random.shuffle(random_word_list)\n",
    "    num_replaced = 0\n",
    "    \n",
    "    for random_word in random_word_list:\n",
    "        synonyms = get_synonyms(random_word)\n",
    "        \n",
    "        if len(synonyms) >= 1:\n",
    "            synonym = random.choice(list(synonyms))\n",
    "            new_words = [synonym if word == random_word else word for word in new_words]\n",
    "            num_replaced += 1\n",
    "        \n",
    "        if num_replaced >= n: #only replace up to n words\n",
    "            break\n",
    "\n",
    "    sentence = ' '.join(new_words)\n",
    "\n",
    "    return sentence"
   ]
  },
  {
   "cell_type": "markdown",
   "id": "76c074bc",
   "metadata": {},
   "source": [
    "### Teste com um texto exemplo"
   ]
  },
  {
   "cell_type": "code",
   "execution_count": 7,
   "id": "5ebe8ddd",
   "metadata": {},
   "outputs": [],
   "source": [
    "from sklearn.model_selection import train_test_split\n",
    "\n",
    "X = df['text']\n",
    "y = df['label']\n",
    "X_train, X_test, y_train, y_test = train_test_split(X, y, test_size=0.25, random_state=32)"
   ]
  },
  {
   "cell_type": "code",
   "execution_count": 8,
   "id": "6b46fc84",
   "metadata": {
    "scrolled": true
   },
   "outputs": [
    {
     "name": "stdout",
     "output_type": "stream",
     "text": [
      "a prostituição é uma atividade antiquíssima e que sempre encontra espaço nas sociedades. em geral, os clientes procuram esse tipo de profissional porque têm dificuldades de conseguir parceiros sexuais ou então para procurar diversidade em seus relacionamentos sexuais. porém, em termos psicológicos, geralmente é uma relação desprovida de afeto. e o sexo, dizem as pesquisas, é mais gratificante quando expressa um real sentimento entre os parceiros. durante a relação sexual, são comuns os gritos, gemidos, sussurros e palavreados obscenos, supostamente denotando excitação sexual. porém estudos recentes indicam que, na maioria das vezes, tal comportamento não reflete real excitação sexual, mas apenas o desejo de estimular sexualmente o parceiro. existem uma diferenciação no papel de cada gênero sexual dentro da relação afetiva. estudos indicam, por exemplo, que um casamento tem mais chances de ser bem-sucedido se a mulher for mais inteligente, mais jovem ou mais feliz com a relação que o homem. ou se o homem adotar uma atitude protetora diante da mulher. ou seja, a união ideal implica em papéis específicos para cada gênero sexual dentro da relação. pesquisas descobriram que a traição é maior em mulheres mais ricas e em homens dependentes financeiramente de suas mulheres. o que comprova a diferenciação sexual dos gêneros, pois demonstra a insatisfação do homem, quando colocado numa posição dependente em relação à mulher. de modo análogo, a mulher costuma demonstrar insatisfação quando o homem está numa posição dependente. pesquisas indicam que a atividade sexual do casal tende a diminuir com o passar dos anos, fruto da monotonia da vida conjugal. para revalorizar as relações entre os parceiros, especialistas recomendam investir mais tempo e cuidado na relação, através de: preocupação com os problemas do parceiro, viagens de férias e passeios sem a presença de outras pessoas, elogios sinceros ao parceiro, relações sexuais com ingredientes que quebrem a rotina, como óleos de massagem, fantasias sexuais, sexo inesperado etc..\n"
     ]
    }
   ],
   "source": [
    "# Retrieve the last text from the test set\n",
    "text = X_test.iloc[-1]\n",
    "print(text)"
   ]
  },
  {
   "cell_type": "code",
   "execution_count": 9,
   "id": "e274316b",
   "metadata": {},
   "outputs": [],
   "source": [
    "import spacy\n",
    "\n",
    "spacy_nlp = spacy.load(\"pt_core_news_sm\")\n",
    "stop_words = spacy_nlp.Defaults.stop_words"
   ]
  },
  {
   "cell_type": "code",
   "execution_count": 10,
   "id": "5a1fedca",
   "metadata": {},
   "outputs": [
    {
     "name": "stdout",
     "output_type": "stream",
     "text": [
      "a prostituição é uma ação antiquíssima e que sempre encontra espaço nas sociedades. em geral, os clientes procuram esse tipo de quem pratica uma profissão porque têm dificuldades de ser bem sucedidos parceiros sexuais ou então para revistar diversidade em seus relacionamentos sexuais. porém, em termos psicológicos, generalmente é uma relação desprovida de afeto. e o sexo, dizem as pesquisas, é mais gratificante quando expressa um atual abalo entre os parceiros. durante a relação sexual, são comuns os gritos, gemidos, sussurros e palavreados obscenos, pretensamente denotando emoção sexual. porém estudos recentes indicam que, na maioria das vezes, tal maneira não reflete atual emoção sexual, mas apenas o pretensão de propulsar sexualmente o parceiro. existem uma diferenciação biologia no folha de cada género sexual dentro da relação afetiva. estudos indicam, por exemplo, que um matrimônio tem mais chance de ser bem sucedido se a dama for mais inteligente, mais garina ou mais jovial com a relação que o homem. ou se o mundo adoptar uma postura protetora diante da mulher. ou seja, a república ideal implica em papéis específicos para cada género sexual dentro da relação. pesquisas descobriram que a traidor é maior em mulheres mais ricas e em mão de obra dependentes financeiramente de suas mulheres. o que comprova a diferenciação biologia sexual dos gêneros, pois demonstra a insatisfação do homem, quando sito numa posição cofidente em relação à mulher. de modalidade análogo, a dama costuma mostrar insatisfação quando o mundo está numa posição dependente. pesquisas indicam que a ação sexual do conúbio tende a baixar com o atravessar dos anos, produto da monotonia da dia a dia conjugal. para revalorizar as relações entre os parceiros, especialistas recomendam inverter mais tempo e auspício na relação, através de: fardo com os problema do parceiro, viagens de sueto e passeios sem a comparecimento de outras pessoas, elogios sinceros ao parceiro, relações sexuais com ingredientes que quebrem a rotina, como óleo de massagem, fantasias sexuais, sexualidade insólito etc..\n"
     ]
    }
   ],
   "source": [
    "sentence = synonym_replacement(text, stop_words, len(text.split()) * 0.5)\n",
    "print(sentence)"
   ]
  },
  {
   "cell_type": "code",
   "execution_count": 11,
   "id": "356d503b",
   "metadata": {},
   "outputs": [
    {
     "name": "stdout",
     "output_type": "stream",
     "text": [
      "Naive Bayes label: [4]\n",
      "SVC label: [3]\n",
      "Correct label: 3\n"
     ]
    }
   ],
   "source": [
    "# Create list of texts to predict\n",
    "X_eval = [text]\n",
    "label_NB = pipeNB.predict(X_eval)\n",
    "label_SVC = pipeSVC.predict(X_eval)\n",
    "\n",
    "print(f'Naive Bayes label: {label_NB}')\n",
    "print(f'SVC label: {label_SVC}')\n",
    "print(f'Correct label: {y_test[-1]}')"
   ]
  },
  {
   "cell_type": "markdown",
   "id": "f0b4e0db",
   "metadata": {},
   "source": [
    "### Avaliação da influência da troca de palavras"
   ]
  },
  {
   "cell_type": "code",
   "execution_count": 12,
   "id": "20ec10ff",
   "metadata": {},
   "outputs": [],
   "source": [
    "from sklearn.metrics import accuracy_score"
   ]
  },
  {
   "cell_type": "code",
   "execution_count": 14,
   "id": "555d2b94",
   "metadata": {},
   "outputs": [],
   "source": [
    "accuracy_NB = []\n",
    "accuracy_SVC = []\n",
    "\n",
    "percentage_range = np.arange(0, 1, step=0.05)\n",
    "for percent in percentage_range:\n",
    "    X_test_syn  = [synonym_replacement(text, len(text.split()) * percent) for text in X_test]\n",
    "    \n",
    "    predictions_NB = pipeNB.predict(X_test_syn)\n",
    "    accuracy_NB.append(accuracy_score(y_test, predictions_NB))\n",
    "    predictions_SVC = pipeSVC.predict(X_test_syn)\n",
    "    accuracy_SVC.append(accuracy_score(y_test, predictions_SVC))"
   ]
  },
  {
   "cell_type": "code",
   "execution_count": 15,
   "id": "44f4d131",
   "metadata": {},
   "outputs": [
    {
     "data": {
      "image/png": "[encoded data removed]",
      "text/plain": [
       "<Figure size 432x288 with 1 Axes>"
      ]
     },
     "metadata": {
      "needs_background": "light"
     },
     "output_type": "display_data"
    }
   ],
   "source": [
    "import matplotlib.pyplot as plt\n",
    "\n",
    "plt.plot(percentage_range, accuracy_NB, label='NB')\n",
    "plt.plot(percentage_range, accuracy_SVC, label='SVC')\n",
    "plt.ylabel('Accuracy')\n",
    "plt.xlabel('% of words replaced')\n",
    "plt.legend(title='Classifier')\n",
    "plt.savefig('figures/accuracy_replacement.png', dpi=200)\n",
    "plt.show()"
   ]
  },
  {
   "cell_type": "markdown",
   "id": "08bcb15b",
   "metadata": {},
   "source": [
    "## Troca de gênero"
   ]
  },
  {
   "cell_type": "code",
   "execution_count": 47,
   "id": "eb4a0648",
   "metadata": {
    "scrolled": true
   },
   "outputs": [],
   "source": [
    "def swap_gender(text, spacy_nlp):\n",
    "    # map of pronouns\n",
    "    gen_map = {\n",
    "        'ele': 'ela', \n",
    "        'ela': 'ele', \n",
    "        'eles': 'elas', \n",
    "        'elas': 'eles', \n",
    "        'meu': 'minha', \n",
    "        'minha': 'meu', \n",
    "        'meus': 'minhas', \n",
    "        'minhas': 'meus', \n",
    "        'teu': 'tua', \n",
    "        'tua': 'teu', \n",
    "        'teus': 'tuas', \n",
    "        'tuas': 'teus', \n",
    "        'seu': 'sua', \n",
    "        'sua': 'seu', \n",
    "        'seus': 'suas', \n",
    "        'suas': 'seus', \n",
    "        'este': 'esta', \n",
    "        'esta': 'este', \n",
    "        'estes': 'estas', \n",
    "        'estas': 'estes', \n",
    "        'esse': 'essa', \n",
    "        'essa': 'esse', \n",
    "        'esses': 'essas', \n",
    "        'essas': 'esses', \n",
    "        'aquele': 'aquela', \n",
    "        'aquela': 'aquele', \n",
    "        'aqueles': 'aquelas', \n",
    "        'aquelas': 'aqueles', \n",
    "        'àquele': 'àquela', \n",
    "        'àquela': 'àquele', \n",
    "        'àqueles': 'àquelas', \n",
    "        'àquelas': 'àqueles', \n",
    "        'mesmo': 'mesma', \n",
    "        'mesma': 'mesmo', \n",
    "        'mesmos': 'mesmas', \n",
    "        'mesmas': 'mesmos', \n",
    "        'próprio': 'própria', \n",
    "        'própria': 'próprio', \n",
    "        'próprios': 'próprias', \n",
    "        'próprias': 'próprios', \n",
    "        'todo': 'toda', \n",
    "        'toda': 'todo', \n",
    "        'todos': 'todas', \n",
    "        'todas': 'todos', \n",
    "        'algum': 'alguma', \n",
    "        'alguma': 'algum', \n",
    "        'alguns': 'algumas', \n",
    "        'algumas': 'alguns', \n",
    "        'um': 'uma', \n",
    "        'uma': 'um', \n",
    "        'uns': 'umas', \n",
    "        'umas': 'uns', \n",
    "        'certo': 'certa', \n",
    "        'certa': 'certo', \n",
    "        'certos': 'certas', \n",
    "        'certas': 'certos', \n",
    "        'vários': 'várias', \n",
    "        'várias': 'vários', \n",
    "        'muito': 'muita', \n",
    "        'muita': 'muito', \n",
    "        'muitos': 'muitas', \n",
    "        'muitas': 'muitos', \n",
    "        'quanto': 'quanta', \n",
    "        'quanta': 'quanto', \n",
    "        'quantos': 'quantas', \n",
    "        'quantas': 'quantos', \n",
    "        'tanto': 'tanta', \n",
    "        'tanta': 'tanto', \n",
    "        'tantos': 'tantas', \n",
    "        'tantas': 'tantos', \n",
    "        'outro': 'outra', \n",
    "        'outra': 'outro', \n",
    "        'outros': 'outras', \n",
    "        'outras': 'outros', \n",
    "    }\n",
    "    \n",
    "    word_list = []\n",
    "\n",
    "    for token in spacy_nlp(text):\n",
    "        word = token.text\n",
    "        if word in gen_map.keys():\n",
    "            word = gen_map[word]\n",
    "        word_list.append(word)\n",
    "        \n",
    "    sentence = ' '.join(word_list)\n",
    "    return sentence"
   ]
  },
  {
   "cell_type": "code",
   "execution_count": 44,
   "id": "cdcbef12",
   "metadata": {},
   "outputs": [],
   "source": [
    "X_test_trans = []\n",
    "\n",
    "for text in X_test:\n",
    "    X_test_trans.append(swap_gender(text, spacy_nlp))"
   ]
  },
  {
   "cell_type": "code",
   "execution_count": 46,
   "id": "bd2e91ff",
   "metadata": {},
   "outputs": [
    {
     "name": "stdout",
     "output_type": "stream",
     "text": [
      "NB accuracy (original): 0.59\n",
      "NB accuracy (back_translated): 0.59\n",
      "SVC accuracy (original): 0.95\n",
      "SVC accuracy (back_translated): 0.95\n"
     ]
    }
   ],
   "source": [
    "predictions_NB = pipeNB.predict(X_test)\n",
    "predictions_NBtrans = pipeNB.predict(X_test_trans)\n",
    "\n",
    "print(f'NB accuracy (original): {accuracy_score(y_test, predictions_NB):.2f}')\n",
    "print(f'NB accuracy (back_translated): {accuracy_score(y_test, predictions_NBtrans):.2f}')\n",
    "\n",
    "predictions_SVC = pipeSVC.predict(X_test)\n",
    "predictions_SVCtrans = pipeSVC.predict(X_test_trans)\n",
    "\n",
    "print(f'SVC accuracy (original): {accuracy_score(y_test, predictions_SVC):.2f}')\n",
    "print(f'SVC accuracy (back_translated): {accuracy_score(y_test, predictions_SVCtrans):.2f}')"
   ]
  },
  {
   "cell_type": "markdown",
   "id": "087ea6f6",
   "metadata": {},
   "source": [
    "## Paráfrase"
   ]
  },
  {
   "cell_type": "code",
   "execution_count": 13,
   "id": "6ae3f893",
   "metadata": {},
   "outputs": [],
   "source": [
    "from deep_translator import GoogleTranslator"
   ]
  },
  {
   "cell_type": "code",
   "execution_count": 14,
   "id": "4088f7cd",
   "metadata": {
    "scrolled": false
   },
   "outputs": [
    {
     "name": "stdout",
     "output_type": "stream",
     "text": [
      "Number of supported languages: 109\n",
      "['afrikaans', 'albanian', 'amharic', 'arabic', 'armenian', 'azerbaijani', 'basque', 'belarusian', 'bengali', 'bosnian', 'bulgarian', 'catalan', 'cebuano', 'chichewa', 'chinese (simplified)', 'chinese (traditional)', 'corsican', 'croatian', 'czech', 'danish', 'dutch', 'english', 'esperanto', 'estonian', 'filipino', 'finnish', 'french', 'frisian', 'galician', 'georgian', 'german', 'greek', 'gujarati', 'haitian creole', 'hausa', 'hawaiian', 'hebrew', 'hindi', 'hmong', 'hungarian', 'icelandic', 'igbo', 'indonesian', 'irish', 'italian', 'japanese', 'javanese', 'kannada', 'kazakh', 'khmer', 'kinyarwanda', 'korean', 'kurdish', 'kyrgyz', 'lao', 'latin', 'latvian', 'lithuanian', 'luxembourgish', 'macedonian', 'malagasy', 'malay', 'malayalam', 'maltese', 'maori', 'marathi', 'mongolian', 'myanmar', 'nepali', 'norwegian', 'odia', 'pashto', 'persian', 'polish', 'portuguese', 'punjabi', 'romanian', 'russian', 'samoan', 'scots gaelic', 'serbian', 'sesotho', 'shona', 'sindhi', 'sinhala', 'slovak', 'slovenian', 'somali', 'spanish', 'sundanese', 'swahili', 'swedish', 'tajik', 'tamil', 'tatar', 'telugu', 'thai', 'turkish', 'turkmen', 'ukrainian', 'urdu', 'uyghur', 'uzbek', 'vietnamese', 'welsh', 'xhosa', 'yiddish', 'yoruba', 'zulu']\n"
     ]
    }
   ],
   "source": [
    "supported_languages = GoogleTranslator.get_supported_languages()\n",
    "print(f'Number of supported languages: {len(supported_languages)}')\n",
    "print(supported_languages)"
   ]
  },
  {
   "cell_type": "code",
   "execution_count": 15,
   "id": "4f9edece",
   "metadata": {},
   "outputs": [
    {
     "name": "stdout",
     "output_type": "stream",
     "text": [
      "Original Text [pt]: a prostituição é uma atividade antiquíssima e que sempre encontra espaço nas sociedades. em geral, os clientes procuram esse tipo de profissional porque têm dificuldades de conseguir parceiros sexuais ou então para procurar diversidade em seus relacionamentos sexuais. porém, em termos psicológicos, geralmente é uma relação desprovida de afeto. e o sexo, dizem as pesquisas, é mais gratificante quando expressa um real sentimento entre os parceiros. durante a relação sexual, são comuns os gritos, gemidos, sussurros e palavreados obscenos, supostamente denotando excitação sexual. porém estudos recentes indicam que, na maioria das vezes, tal comportamento não reflete real excitação sexual, mas apenas o desejo de estimular sexualmente o parceiro. existem uma diferenciação no papel de cada gênero sexual dentro da relação afetiva. estudos indicam, por exemplo, que um casamento tem mais chances de ser bem-sucedido se a mulher for mais inteligente, mais jovem ou mais feliz com a relação que o homem. ou se o homem adotar uma atitude protetora diante da mulher. ou seja, a união ideal implica em papéis específicos para cada gênero sexual dentro da relação. pesquisas descobriram que a traição é maior em mulheres mais ricas e em homens dependentes financeiramente de suas mulheres. o que comprova a diferenciação sexual dos gêneros, pois demonstra a insatisfação do homem, quando colocado numa posição dependente em relação à mulher. de modo análogo, a mulher costuma demonstrar insatisfação quando o homem está numa posição dependente. pesquisas indicam que a atividade sexual do casal tende a diminuir com o passar dos anos, fruto da monotonia da vida conjugal. para revalorizar as relações entre os parceiros, especialistas recomendam investir mais tempo e cuidado na relação, através de: preocupação com os problemas do parceiro, viagens de férias e passeios sem a presença de outras pessoas, elogios sinceros ao parceiro, relações sexuais com ingredientes que quebrem a rotina, como óleos de massagem, fantasias sexuais, sexo inesperado etc..\n",
      "\n",
      "Translated Text [en]: prostitution is an ancient activity that always finds a place in societies. In general, clients seek this type of professional because they have difficulties in finding sexual partners or because they are looking for diversity in their sexual relationships. however, in psychological terms, it is usually a relationship devoid of affection. and sex, research says, is most rewarding when it expresses real feelings between partners. during intercourse, screams, moans, whispers and obscene words are common, supposedly denoting sexual arousal. however recent studies indicate that, in most cases, such behavior does not reflect real sexual arousal, but only the desire to sexually stimulate the partner. there is a differentiation in the role of each sexual gender within the affective relationship. Studies indicate, for example, that a marriage is more likely to succeed if the woman is smarter, younger, or happier in the relationship than the man. or if the man adopts a protective attitude towards the woman. that is, the ideal union implies specific roles for each sex within the relationship. research has found that cheating is higher in wealthier women and in men who are financially dependent on their wives. which proves the sexual differentiation of the genders, as it demonstrates the dissatisfaction of men, when placed in a dependent position in relation to women. similarly, women often show dissatisfaction when men are in a dependent position. Research indicates that the couple's sexual activity tends to decrease over the years, as a result of the monotony of married life. to revalue relationships between partners, experts recommend investing more time and care in the relationship, through: concern for the partner's problems, vacation trips and outings without the presence of other people, sincere praise for the partner, sexual relations with ingredients that break the routine, such as massage oils, sexual fantasies, unexpected sex, etc.\n",
      "\n",
      "Back Translation [pt]: a prostituição é uma atividade antiga que sempre encontra um lugar nas sociedades. Em geral, os clientes procuram este tipo de profissional porque têm dificuldades em encontrar parceiros sexuais ou porque procuram diversidade nas suas relações sexuais. porém, em termos psicológicos, costuma ser uma relação desprovida de afeto. e sexo, segundo a pesquisa, é mais recompensador quando expressa sentimentos reais entre parceiros. durante a relação sexual, gritos, gemidos, sussurros e palavras obscenas são comuns, supostamente denotando excitação sexual. porém estudos recentes indicam que, na maioria dos casos, tal comportamento não reflete a real excitação sexual, mas apenas o desejo de estimular sexualmente o parceiro. há uma diferenciação no papel de cada gênero sexual dentro da relação afetiva. Estudos indicam, por exemplo, que é mais provável que um casamento seja bem-sucedido se a mulher for mais inteligente, mais jovem ou mais feliz no relacionamento do que o homem. ou se o homem adota uma atitude protetora em relação à mulher. ou seja, a união ideal implica papéis específicos para cada sexo dentro do relacionamento. A pesquisa descobriu que a traição é maior em mulheres mais ricas e em homens que dependem financeiramente de suas esposas. o que comprova a diferenciação sexual dos gêneros, pois demonstra a insatisfação dos homens, quando colocados em posição de dependência em relação às mulheres. da mesma forma, as mulheres muitas vezes mostram insatisfação quando os homens estão em uma posição de dependência. Pesquisas indicam que a atividade sexual do casal tende a diminuir com o passar dos anos, fruto da monotonia da vida conjugal. para reavaliar as relações entre os parceiros, especialistas recomendam investir mais tempo e cuidado no relacionamento, por meio de: preocupação com os problemas do parceiro, viagens de férias e passeios sem a presença de outras pessoas, elogios sinceros ao parceiro, relações sexuais com ingredientes que quebram a rotina , como óleos de massagem, fantasias sexuais, sexo inesperado, etc.\n"
     ]
    }
   ],
   "source": [
    "translated = GoogleTranslator(source='pt', target='en').translate(text)\n",
    "back_translated = GoogleTranslator(source='en', target='pt').translate(translated)\n",
    "\n",
    "print(f'Original Text [pt]: {text}\\n')\n",
    "print(f'Translated Text [en]: {translated}\\n')\n",
    "print(f'Back Translation [pt]: {back_translated}')"
   ]
  },
  {
   "cell_type": "code",
   "execution_count": 17,
   "id": "372fb20a",
   "metadata": {
    "scrolled": true
   },
   "outputs": [],
   "source": [
    "X_test_trans = []\n",
    "to_remove = []\n",
    "\n",
    "for i, text in enumerate(X_test):\n",
    "    translated = GoogleTranslator(source='pt', target='en').translate(text)\n",
    "    \n",
    "    if len(translated) < 5000:\n",
    "        # text must have less than 5000 characters\n",
    "        back_translated = GoogleTranslator(source='en', target='pt').translate(translated)\n",
    "        X_test_trans.append(back_translated)\n",
    "    else:\n",
    "        to_remove.append(i)"
   ]
  },
  {
   "cell_type": "code",
   "execution_count": 20,
   "id": "8eebfebf",
   "metadata": {},
   "outputs": [],
   "source": [
    "# drop rows which could not be translated\n",
    "X_test_drop = X_test.drop(X_test.index[to_remove])\n",
    "y_test_drop = y_test.drop(y_test.index[to_remove])"
   ]
  },
  {
   "cell_type": "code",
   "execution_count": 31,
   "id": "3ef823c8",
   "metadata": {},
   "outputs": [
    {
     "name": "stdout",
     "output_type": "stream",
     "text": [
      "NB accuracy (original): 0.59\n",
      "NB accuracy (back_translated): 0.59\n",
      "SVC accuracy (original): 0.95\n",
      "SVC accuracy (back_translated): 0.94\n"
     ]
    }
   ],
   "source": [
    "predictions_NB = pipeNB.predict(X_test_drop)\n",
    "predictions_NBtrans = pipeNB.predict(X_test_trans)\n",
    "\n",
    "print(f'NB accuracy (original): {accuracy_score(y_test_drop, predictions_NB):.2f}')\n",
    "print(f'NB accuracy (back_translated): {accuracy_score(y_test_drop, predictions_NBtrans):.2f}')\n",
    "\n",
    "predictions_SVC = pipeSVC.predict(X_test_drop)\n",
    "predictions_SVCtrans = pipeSVC.predict(X_test_trans)\n",
    "\n",
    "print(f'SVC accuracy (original): {accuracy_score(y_test_drop, predictions_SVC):.2f}')\n",
    "print(f'SVC accuracy (back_translated): {accuracy_score(y_test_drop, predictions_SVCtrans):.2f}')"
   ]
  },
  {
   "cell_type": "code",
   "execution_count": null,
   "id": "5840a04e",
   "metadata": {},
   "outputs": [],
   "source": []
  }
 ],
 "metadata": {
  "kernelspec": {
   "display_name": "Python 3",
   "language": "python",
   "name": "python3"
  },
  "language_info": {
   "codemirror_mode": {
    "name": "ipython",
    "version": 3
   },
   "file_extension": ".py",
   "mimetype": "text/x-python",
   "name": "python",
   "nbconvert_exporter": "python",
   "pygments_lexer": "ipython3",
   "version": "3.7.11"
  }
 },
 "nbformat": 4,
 "nbformat_minor": 5
}
