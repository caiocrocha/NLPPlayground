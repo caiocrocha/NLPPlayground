{
 "cells": [
  {
   "cell_type": "markdown",
   "id": "5ec6600d",
   "metadata": {},
   "source": [
    "# Operações de mutação\n",
    "Após executar o notebook de **classificação**, podemos realizar operações de mutação no texto para verificar qual impacto elas têm na classificação dos níveis de dificuldade do texto."
   ]
  },
  {
   "cell_type": "code",
   "execution_count": 1,
   "id": "98929091",
   "metadata": {},
   "outputs": [],
   "source": [
    "import pandas as pd\n",
    "import numpy as np\n",
    "import random\n",
    "\n",
    "random.seed(8)"
   ]
  },
  {
   "cell_type": "markdown",
   "id": "2aca7689",
   "metadata": {},
   "source": [
    "## Leitura dos dados"
   ]
  },
  {
   "cell_type": "code",
   "execution_count": 2,
   "id": "5e663a5b",
   "metadata": {},
   "outputs": [
    {
     "data": {
      "text/html": [
       "<div>\n",
       "<style scoped>\n",
       "    .dataframe tbody tr th:only-of-type {\n",
       "        vertical-align: middle;\n",
       "    }\n",
       "\n",
       "    .dataframe tbody tr th {\n",
       "        vertical-align: top;\n",
       "    }\n",
       "\n",
       "    .dataframe thead th {\n",
       "        text-align: right;\n",
       "    }\n",
       "</style>\n",
       "<table border=\"1\" class=\"dataframe\">\n",
       "  <thead>\n",
       "    <tr style=\"text-align: right;\">\n",
       "      <th></th>\n",
       "      <th>text</th>\n",
       "      <th>label</th>\n",
       "    </tr>\n",
       "    <tr>\n",
       "      <th>id</th>\n",
       "      <th></th>\n",
       "      <th></th>\n",
       "    </tr>\n",
       "  </thead>\n",
       "  <tbody>\n",
       "    <tr>\n",
       "      <th>207_765</th>\n",
       "      <td>nada impede, no entanto, que sejam substituído...</td>\n",
       "      <td>1</td>\n",
       "    </tr>\n",
       "    <tr>\n",
       "      <th>232_790</th>\n",
       "      <td>e muitas palavras faladas por esses povos fora...</td>\n",
       "      <td>1</td>\n",
       "    </tr>\n",
       "    <tr>\n",
       "      <th>39_347</th>\n",
       "      <td>sete séculos antes do nascimento de cristo, o ...</td>\n",
       "      <td>1</td>\n",
       "    </tr>\n",
       "    <tr>\n",
       "      <th>48_379</th>\n",
       "      <td>voar sempre foi um dos grandes sonhos da human...</td>\n",
       "      <td>1</td>\n",
       "    </tr>\n",
       "    <tr>\n",
       "      <th>73_629</th>\n",
       "      <td>para os bolsos de seus senhores, é claro. você...</td>\n",
       "      <td>1</td>\n",
       "    </tr>\n",
       "  </tbody>\n",
       "</table>\n",
       "</div>"
      ],
      "text/plain": [
       "                                                      text  label\n",
       "id                                                               \n",
       "207_765  nada impede, no entanto, que sejam substituído...      1\n",
       "232_790  e muitas palavras faladas por esses povos fora...      1\n",
       "39_347   sete séculos antes do nascimento de cristo, o ...      1\n",
       "48_379   voar sempre foi um dos grandes sonhos da human...      1\n",
       "73_629   para os bolsos de seus senhores, é claro. você...      1"
      ]
     },
     "execution_count": 2,
     "metadata": {},
     "output_type": "execute_result"
    }
   ],
   "source": [
    "# Read dataset into Pandas DataFrame\n",
    "df = pd.read_csv('dataset.csv', index_col='id')\n",
    "df.head()"
   ]
  },
  {
   "cell_type": "code",
   "execution_count": 3,
   "id": "4e8e1bef",
   "metadata": {
    "scrolled": true
   },
   "outputs": [
    {
     "name": "stderr",
     "output_type": "stream",
     "text": [
      "[nltk_data] Downloading package wordnet to /home/caio/nltk_data...\n",
      "[nltk_data]   Package wordnet is already up-to-date!\n",
      "[nltk_data] Downloading package omw-1.4 to /home/caio/nltk_data...\n",
      "[nltk_data]   Package omw-1.4 is already up-to-date!\n"
     ]
    },
    {
     "data": {
      "text/plain": [
       "True"
      ]
     },
     "execution_count": 3,
     "metadata": {},
     "output_type": "execute_result"
    }
   ],
   "source": [
    "# download nltk required packages\n",
    "import nltk\n",
    "nltk.download('wordnet')\n",
    "nltk.download('omw-1.4')"
   ]
  },
  {
   "cell_type": "code",
   "execution_count": 21,
   "id": "d29b2b4b",
   "metadata": {},
   "outputs": [],
   "source": [
    "import pickle\n",
    "import os\n",
    "from src.CustomPortugueseLemmatizer import CustomPortugueseLemmatizer\n",
    "\n",
    "path = 'pickle'\n",
    "if os.path.isdir(path):\n",
    "    # Read the Naive Bayes classifier from pickle\n",
    "    with open(f'{path}/pipeline_NB.pickle', 'rb') as nb_pickle:\n",
    "        pipeNB = pickle.load(nb_pickle)\n",
    "\n",
    "    # Read the SVC classifier from pickle\n",
    "    with open(f'{path}/pipeline_SVC.pickle', 'rb') as svc_pickle:\n",
    "        pipeSVC = pickle.load(svc_pickle)"
   ]
  },
  {
   "cell_type": "markdown",
   "id": "93183980",
   "metadata": {},
   "source": [
    "## Troca de palavras"
   ]
  },
  {
   "cell_type": "code",
   "execution_count": 7,
   "id": "ad334c82",
   "metadata": {},
   "outputs": [],
   "source": [
    "from nltk.corpus import wordnet \n",
    "\n",
    "def get_synonyms(word):\n",
    "    \"\"\"\n",
    "    Get synonyms of a word\n",
    "    \"\"\"\n",
    "    synonyms = set()\n",
    "    \n",
    "    for syn in wordnet.synsets(word, lang='por'): \n",
    "        for l in syn.lemmas(lang='por'): \n",
    "            synonym = l.name().replace(\"_\", \" \").replace(\"-\", \" \").lower()\n",
    "            synonym = \"\".join([char for char in synonym if char in ' qwertyuiopasdfghjklçzxcvbnmáàãâéêíóõôúü'])\n",
    "            synonyms.add(synonym) \n",
    "    \n",
    "    if word in synonyms:\n",
    "        synonyms.remove(word)\n",
    "    \n",
    "    return list(synonyms)"
   ]
  },
  {
   "cell_type": "code",
   "execution_count": 42,
   "id": "02551369",
   "metadata": {},
   "outputs": [],
   "source": [
    "def synonym_replacement(words, stop_words, n):\n",
    "    if n <= 0: # no word to replace, return the original text\n",
    "        return words\n",
    "        \n",
    "    words = words.split()\n",
    "\n",
    "    new_words = words.copy()\n",
    "    random_word_list = list(set([word for word in words if word not in stop_words]))\n",
    "    random.shuffle(random_word_list)\n",
    "    num_replaced = 0\n",
    "    \n",
    "    for random_word in random_word_list:\n",
    "        synonyms = get_synonyms(random_word)\n",
    "        \n",
    "        if len(synonyms) >= 1:\n",
    "            synonym = random.choice(list(synonyms))\n",
    "            new_words = [synonym if word == random_word else word for word in new_words]\n",
    "            num_replaced += 1\n",
    "        \n",
    "        if num_replaced >= n: #only replace up to n words\n",
    "            break\n",
    "\n",
    "    sentence = ' '.join(new_words)\n",
    "\n",
    "    return sentence"
   ]
  },
  {
   "cell_type": "markdown",
   "id": "76c074bc",
   "metadata": {},
   "source": [
    "### Teste com um texto exemplo"
   ]
  },
  {
   "cell_type": "code",
   "execution_count": 43,
   "id": "5ebe8ddd",
   "metadata": {},
   "outputs": [],
   "source": [
    "from sklearn.model_selection import train_test_split\n",
    "\n",
    "X = df['text']\n",
    "y = df['label']\n",
    "X_train, X_test, y_train, y_test = train_test_split(X, y, test_size=0.25, random_state=32)"
   ]
  },
  {
   "cell_type": "code",
   "execution_count": 44,
   "id": "6b46fc84",
   "metadata": {
    "scrolled": true
   },
   "outputs": [
    {
     "name": "stdout",
     "output_type": "stream",
     "text": [
      "a prostituição é uma atividade antiquíssima e que sempre encontra espaço nas sociedades. em geral, os clientes procuram esse tipo de profissional porque têm dificuldades de conseguir parceiros sexuais ou então para procurar diversidade em seus relacionamentos sexuais. porém, em termos psicológicos, geralmente é uma relação desprovida de afeto. e o sexo, dizem as pesquisas, é mais gratificante quando expressa um real sentimento entre os parceiros. durante a relação sexual, são comuns os gritos, gemidos, sussurros e palavreados obscenos, supostamente denotando excitação sexual. porém estudos recentes indicam que, na maioria das vezes, tal comportamento não reflete real excitação sexual, mas apenas o desejo de estimular sexualmente o parceiro. existem uma diferenciação no papel de cada gênero sexual dentro da relação afetiva. estudos indicam, por exemplo, que um casamento tem mais chances de ser bem-sucedido se a mulher for mais inteligente, mais jovem ou mais feliz com a relação que o homem. ou se o homem adotar uma atitude protetora diante da mulher. ou seja, a união ideal implica em papéis específicos para cada gênero sexual dentro da relação. pesquisas descobriram que a traição é maior em mulheres mais ricas e em homens dependentes financeiramente de suas mulheres. o que comprova a diferenciação sexual dos gêneros, pois demonstra a insatisfação do homem, quando colocado numa posição dependente em relação à mulher. de modo análogo, a mulher costuma demonstrar insatisfação quando o homem está numa posição dependente. pesquisas indicam que a atividade sexual do casal tende a diminuir com o passar dos anos, fruto da monotonia da vida conjugal. para revalorizar as relações entre os parceiros, especialistas recomendam investir mais tempo e cuidado na relação, através de: preocupação com os problemas do parceiro, viagens de férias e passeios sem a presença de outras pessoas, elogios sinceros ao parceiro, relações sexuais com ingredientes que quebrem a rotina, como óleos de massagem, fantasias sexuais, sexo inesperado etc..\n"
     ]
    }
   ],
   "source": [
    "# Retrieve the last text from the test set\n",
    "text = X_test.iloc[-1]\n",
    "print(text)"
   ]
  },
  {
   "cell_type": "code",
   "execution_count": 45,
   "id": "e274316b",
   "metadata": {},
   "outputs": [],
   "source": [
    "import spacy\n",
    "\n",
    "nlp = spacy.load(\"pt_core_news_sm\")\n",
    "stop_words = nlp.Defaults.stop_words"
   ]
  },
  {
   "cell_type": "code",
   "execution_count": 46,
   "id": "5a1fedca",
   "metadata": {},
   "outputs": [
    {
     "name": "stdout",
     "output_type": "stream",
     "text": [
      "a prostituição é uma ação antiquíssima e que sempre encontra espaço nas sociedades. em geral, os clientes procuram esse tipo de praticante porque têm dificuldades de ser bem sucedidos parceiros sexuais ou então para revistar diversidade em seus relacionamentos sexuais. porém, em termos psicológicos, popularmente é uma relação desprovida de afeto. e o sexo, dizem as pesquisas, é mais gratificante quando expressa um efectivo emoção entre os parceiros. durante a relação sexual, são comuns os gritos, gemidos, sussurros e palavreados obscenos, alegada denotando emoção sexual. porém estudos recentes indicam que, na maioria das vezes, tal procedimento não reflete efectivo emoção sexual, mas apenas o anelo de incitar sexualmente o parceiro. existem uma diferenciação biologia no folha de cada género gramatical sexual dentro da relação afetiva. estudos indicam, por exemplo, que um matrimônio tem mais chance de ser bem sucedido se a dona for mais inteligente, mais menininha ou mais contente com a relação que o homem. ou se o esposa adotar como própria uma postura protetora diante da mulher. ou seja, a associações ideal implica em papéis específicos para cada género gramatical sexual dentro da relação. pesquisas descobriram que a informante é maior em mulheres mais ricas e em mão de obra dependentes financeiramente de suas mulheres. o que comprova a diferenciação biologia sexual dos gêneros, pois demonstra a insatisfação do homem, quando situado numa posição cofidente em relação à mulher. de maneira análogo, a dona costuma dizer insatisfação quando o esposa está numa posição dependente. pesquisas indicam que a ação sexual do dupla tende a declinar com o acercar dos anos, produção da monotonia da existência conjugal. para revalorizar as relações entre os parceiros, especialistas recomendam dotar mais tempo e auspício na relação, através de: interesse com os questão do parceiro, viagens de feria e passeios sem a comparecimento de outras pessoas, elogios sinceros ao parceiro, relações sexuais com ingredientes que quebrem a rotina, como óleo de massagem, fantasias sexuais, género gramatical imprevisto etc..\n"
     ]
    }
   ],
   "source": [
    "sentence = synonym_replacement(text, stop_words, len(text.split()) * 0.5)\n",
    "print(sentence)"
   ]
  },
  {
   "cell_type": "code",
   "execution_count": 12,
   "id": "356d503b",
   "metadata": {},
   "outputs": [
    {
     "name": "stdout",
     "output_type": "stream",
     "text": [
      "Naive Bayes label: [4]\n",
      "SVC label: [3]\n",
      "Correct label: 3\n"
     ]
    }
   ],
   "source": [
    "# Create list of texts to predict\n",
    "X_eval = [text]\n",
    "label_NB = pipeNB.predict(X_eval)\n",
    "label_SVC = pipeSVC.predict(X_eval)\n",
    "\n",
    "print(f'Naive Bayes label: {label_NB}')\n",
    "print(f'SVC label: {label_SVC}')\n",
    "print(f'Correct label: {y_test[-1]}')"
   ]
  },
  {
   "cell_type": "markdown",
   "id": "f0b4e0db",
   "metadata": {},
   "source": [
    "### Avaliação da influência da troca de palavras"
   ]
  },
  {
   "cell_type": "code",
   "execution_count": 13,
   "id": "20ec10ff",
   "metadata": {},
   "outputs": [],
   "source": [
    "from sklearn.metrics import accuracy_score"
   ]
  },
  {
   "cell_type": "code",
   "execution_count": 14,
   "id": "555d2b94",
   "metadata": {},
   "outputs": [],
   "source": [
    "accuracy_NB = []\n",
    "accuracy_SVC = []\n",
    "\n",
    "percentage_range = np.arange(0, 1, step=0.05)\n",
    "for percent in percentage_range:\n",
    "    X_test_syn  = [synonym_replacement(text, len(text.split()) * percent) for text in X_test]\n",
    "    \n",
    "    predictions_NB = pipeNB.predict(X_test_syn)\n",
    "    accuracy_NB.append(accuracy_score(y_test, predictions_NB))\n",
    "    predictions_SVC = pipeSVC.predict(X_test_syn)\n",
    "    accuracy_SVC.append(accuracy_score(y_test, predictions_SVC))"
   ]
  },
  {
   "cell_type": "code",
   "execution_count": 15,
   "id": "44f4d131",
   "metadata": {},
   "outputs": [
    {
     "data": {
      "image/png": "[encoded data removed]",
      "text/plain": [
       "<Figure size 432x288 with 1 Axes>"
      ]
     },
     "metadata": {
      "needs_background": "light"
     },
     "output_type": "display_data"
    }
   ],
   "source": [
    "import matplotlib.pyplot as plt\n",
    "\n",
    "plt.plot(percentage_range, accuracy_NB, label='NB')\n",
    "plt.plot(percentage_range, accuracy_SVC, label='SVC')\n",
    "plt.ylabel('Accuracy')\n",
    "plt.xlabel('% of words replaced')\n",
    "plt.legend(title='Classifier')\n",
    "plt.savefig('figures/accuracy_replacement.png', dpi=200)\n",
    "plt.show()"
   ]
  },
  {
   "cell_type": "markdown",
   "id": "087ea6f6",
   "metadata": {},
   "source": [
    "## Paráfrase"
   ]
  },
  {
   "cell_type": "code",
   "execution_count": 16,
   "id": "51317799",
   "metadata": {
    "scrolled": false
   },
   "outputs": [
    {
     "name": "stdout",
     "output_type": "stream",
     "text": [
      "Requirement already satisfied: deep-translator in /home/caio/miniconda3/envs/caed/lib/python3.8/site-packages (1.7.0)\r\n",
      "Requirement already satisfied: beautifulsoup4<5.0.0,>=4.9.1 in /home/caio/miniconda3/envs/caed/lib/python3.8/site-packages (from deep-translator) (4.10.0)\r\n",
      "Requirement already satisfied: requests<3.0.0,>=2.23.0 in /home/caio/miniconda3/envs/caed/lib/python3.8/site-packages (from deep-translator) (2.27.1)\r\n",
      "Requirement already satisfied: soupsieve>1.2 in /home/caio/miniconda3/envs/caed/lib/python3.8/site-packages (from beautifulsoup4<5.0.0,>=4.9.1->deep-translator) (2.3.1)\r\n",
      "Requirement already satisfied: certifi>=2017.4.17 in /home/caio/miniconda3/envs/caed/lib/python3.8/site-packages (from requests<3.0.0,>=2.23.0->deep-translator) (2021.10.8)\r\n",
      "Requirement already satisfied: urllib3<1.27,>=1.21.1 in /home/caio/miniconda3/envs/caed/lib/python3.8/site-packages (from requests<3.0.0,>=2.23.0->deep-translator) (1.26.8)\r\n",
      "Requirement already satisfied: idna<4,>=2.5 in /home/caio/miniconda3/envs/caed/lib/python3.8/site-packages (from requests<3.0.0,>=2.23.0->deep-translator) (2.10)\r\n",
      "Requirement already satisfied: charset-normalizer~=2.0.0 in /home/caio/miniconda3/envs/caed/lib/python3.8/site-packages (from requests<3.0.0,>=2.23.0->deep-translator) (2.0.12)\r\n"
     ]
    }
   ],
   "source": [
    "!pip install deep-translator"
   ]
  },
  {
   "cell_type": "code",
   "execution_count": 17,
   "id": "6ae3f893",
   "metadata": {},
   "outputs": [],
   "source": [
    "from deep_translator import GoogleTranslator"
   ]
  },
  {
   "cell_type": "code",
   "execution_count": 18,
   "id": "4088f7cd",
   "metadata": {
    "scrolled": false
   },
   "outputs": [
    {
     "name": "stdout",
     "output_type": "stream",
     "text": [
      "Number of supported languages: 109\n",
      "['afrikaans', 'albanian', 'amharic', 'arabic', 'armenian', 'azerbaijani', 'basque', 'belarusian', 'bengali', 'bosnian', 'bulgarian', 'catalan', 'cebuano', 'chichewa', 'chinese (simplified)', 'chinese (traditional)', 'corsican', 'croatian', 'czech', 'danish', 'dutch', 'english', 'esperanto', 'estonian', 'filipino', 'finnish', 'french', 'frisian', 'galician', 'georgian', 'german', 'greek', 'gujarati', 'haitian creole', 'hausa', 'hawaiian', 'hebrew', 'hindi', 'hmong', 'hungarian', 'icelandic', 'igbo', 'indonesian', 'irish', 'italian', 'japanese', 'javanese', 'kannada', 'kazakh', 'khmer', 'kinyarwanda', 'korean', 'kurdish', 'kyrgyz', 'lao', 'latin', 'latvian', 'lithuanian', 'luxembourgish', 'macedonian', 'malagasy', 'malay', 'malayalam', 'maltese', 'maori', 'marathi', 'mongolian', 'myanmar', 'nepali', 'norwegian', 'odia', 'pashto', 'persian', 'polish', 'portuguese', 'punjabi', 'romanian', 'russian', 'samoan', 'scots gaelic', 'serbian', 'sesotho', 'shona', 'sindhi', 'sinhala', 'slovak', 'slovenian', 'somali', 'spanish', 'sundanese', 'swahili', 'swedish', 'tajik', 'tamil', 'tatar', 'telugu', 'thai', 'turkish', 'turkmen', 'ukrainian', 'urdu', 'uyghur', 'uzbek', 'vietnamese', 'welsh', 'xhosa', 'yiddish', 'yoruba', 'zulu']\n"
     ]
    }
   ],
   "source": [
    "supported_languages = GoogleTranslator.get_supported_languages()\n",
    "print(f'Number of supported languages: {len(supported_languages)}')\n",
    "print(supported_languages)"
   ]
  },
  {
   "cell_type": "code",
   "execution_count": 19,
   "id": "4f9edece",
   "metadata": {},
   "outputs": [
    {
     "name": "stdout",
     "output_type": "stream",
     "text": [
      "Original Text [pt]: a prostituição é uma atividade antiquíssima e que sempre encontra espaço nas sociedades. em geral, os clientes procuram esse tipo de profissional porque têm dificuldades de conseguir parceiros sexuais ou então para procurar diversidade em seus relacionamentos sexuais. porém, em termos psicológicos, geralmente é uma relação desprovida de afeto. e o sexo, dizem as pesquisas, é mais gratificante quando expressa um real sentimento entre os parceiros. durante a relação sexual, são comuns os gritos, gemidos, sussurros e palavreados obscenos, supostamente denotando excitação sexual. porém estudos recentes indicam que, na maioria das vezes, tal comportamento não reflete real excitação sexual, mas apenas o desejo de estimular sexualmente o parceiro. existem uma diferenciação no papel de cada gênero sexual dentro da relação afetiva. estudos indicam, por exemplo, que um casamento tem mais chances de ser bem-sucedido se a mulher for mais inteligente, mais jovem ou mais feliz com a relação que o homem. ou se o homem adotar uma atitude protetora diante da mulher. ou seja, a união ideal implica em papéis específicos para cada gênero sexual dentro da relação. pesquisas descobriram que a traição é maior em mulheres mais ricas e em homens dependentes financeiramente de suas mulheres. o que comprova a diferenciação sexual dos gêneros, pois demonstra a insatisfação do homem, quando colocado numa posição dependente em relação à mulher. de modo análogo, a mulher costuma demonstrar insatisfação quando o homem está numa posição dependente. pesquisas indicam que a atividade sexual do casal tende a diminuir com o passar dos anos, fruto da monotonia da vida conjugal. para revalorizar as relações entre os parceiros, especialistas recomendam investir mais tempo e cuidado na relação, através de: preocupação com os problemas do parceiro, viagens de férias e passeios sem a presença de outras pessoas, elogios sinceros ao parceiro, relações sexuais com ingredientes que quebrem a rotina, como óleos de massagem, fantasias sexuais, sexo inesperado etc..\n",
      "\n",
      "Translated Text [en]: prostitution is an ancient activity that always finds a place in societies. In general, clients seek this type of professional because they have difficulties in finding sexual partners or because they are looking for diversity in their sexual relationships. however, in psychological terms, it is usually a relationship devoid of affection. and sex, research says, is most rewarding when it expresses real feelings between partners. during intercourse, screams, moans, whispers and obscene words are common, supposedly denoting sexual arousal. however recent studies indicate that, in most cases, such behavior does not reflect real sexual arousal, but only the desire to sexually stimulate the partner. there is a differentiation in the role of each sexual gender within the affective relationship. Studies indicate, for example, that a marriage is more likely to succeed if the woman is smarter, younger, or happier in the relationship than the man. or if the man adopts a protective attitude towards the woman. that is, the ideal union implies specific roles for each sex within the relationship. research has found that cheating is higher in wealthier women and in men who are financially dependent on their wives. which proves the sexual differentiation of the genders, as it demonstrates the dissatisfaction of men, when placed in a dependent position in relation to women. similarly, women often show dissatisfaction when men are in a dependent position. Research indicates that the couple's sexual activity tends to decrease over the years, as a result of the monotony of married life. to revalue relationships between partners, experts recommend investing more time and care in the relationship, through: concern for the partner's problems, vacation trips and outings without the presence of other people, sincere praise for the partner, sexual relations with ingredients that break the routine, such as massage oils, sexual fantasies, unexpected sex, etc.\n",
      "\n",
      "Back Translation [pt]: a prostituição é uma atividade antiga que sempre encontra um lugar nas sociedades. Em geral, os clientes procuram este tipo de profissional porque têm dificuldades em encontrar parceiros sexuais ou porque procuram diversidade nas suas relações sexuais. porém, em termos psicológicos, costuma ser uma relação desprovida de afeto. e sexo, segundo a pesquisa, é mais recompensador quando expressa sentimentos reais entre parceiros. durante a relação sexual, gritos, gemidos, sussurros e palavras obscenas são comuns, supostamente denotando excitação sexual. porém estudos recentes indicam que, na maioria dos casos, tal comportamento não reflete a real excitação sexual, mas apenas o desejo de estimular sexualmente o parceiro. há uma diferenciação no papel de cada gênero sexual dentro da relação afetiva. Estudos indicam, por exemplo, que é mais provável que um casamento seja bem-sucedido se a mulher for mais inteligente, mais jovem ou mais feliz no relacionamento do que o homem. ou se o homem adota uma atitude protetora em relação à mulher. ou seja, a união ideal implica papéis específicos para cada sexo dentro do relacionamento. A pesquisa descobriu que a traição é maior em mulheres mais ricas e em homens que dependem financeiramente de suas esposas. o que comprova a diferenciação sexual dos gêneros, pois demonstra a insatisfação dos homens, quando colocados em posição de dependência em relação às mulheres. da mesma forma, as mulheres muitas vezes mostram insatisfação quando os homens estão em uma posição de dependência. Pesquisas indicam que a atividade sexual do casal tende a diminuir com o passar dos anos, fruto da monotonia da vida conjugal. para reavaliar as relações entre os parceiros, especialistas recomendam investir mais tempo e cuidado no relacionamento, por meio de: preocupação com os problemas do parceiro, viagens de férias e passeios sem a presença de outras pessoas, elogios sinceros ao parceiro, relações sexuais com ingredientes que quebram a rotina , como óleos de massagem, fantasias sexuais, sexo inesperado, etc.\n"
     ]
    }
   ],
   "source": [
    "translated = GoogleTranslator(source='pt', target='en').translate(text)\n",
    "back_translated = GoogleTranslator(source='en', target='pt').translate(translated)\n",
    "\n",
    "print(f'Original Text [pt]: {text}\\n')\n",
    "print(f'Translated Text [en]: {translated}\\n')\n",
    "print(f'Back Translation [pt]: {back_translated}')"
   ]
  },
  {
   "cell_type": "code",
   "execution_count": 36,
   "id": "214a48b5",
   "metadata": {
    "scrolled": false
   },
   "outputs": [
    {
     "data": {
      "text/plain": [
       "4999"
      ]
     },
     "execution_count": 36,
     "metadata": {},
     "output_type": "execute_result"
    }
   ],
   "source": [
    "len(X_test[69])"
   ]
  },
  {
   "cell_type": "code",
   "execution_count": 28,
   "id": "372fb20a",
   "metadata": {
    "scrolled": true
   },
   "outputs": [
    {
     "ename": "NotValidLength",
     "evalue": "the inverse hyperbolic functions are particularly interesting, they are linked to the natural logarithm and for this reason, their analysis is essentially exponential, like the analysis of hyperbolic functions, this fact gives rise to new possibilities to deal with problems related to the analysis of non-linear structures. hyperbolic functions are characteristically analyzed in a similar way to trigonometric ones, which suggests the analysis of the inversion of variables from hyperbolic equations of the form: formula_251, to the form: formula_252 this is particularly easy to implement for functions of type formula_253, which are functions monotonous and continuous, for the others that restrict their continuity in a certain interval, we must adopt bands for the domain of each one in particular. It is important to note that, although hyperbolic functions are similar to trigonometric functions, these functions are based on angles that must be analyzed differently from trigonometric ones, remember that the radius of a circular function is constant, which does not happen with a function based on a conic, in this case the hyperbola, that's why we chose the name \"argfunch(x) \", because we can't classify the hyperbolic angles as arcs. now let's consider the function formula_254, then: formula_255 we can do formula_256, so: formula_257 which results in the equation: formula_258 whose roots are: formula_259 we can only admit: formula_260, hence: formula_261 replacing the variables \"x\" with \"y\" and \"t \" by \"x\", we have the inverse of formula_253 which is: in the case of formula_264, the deduction is similar: formula_265 we can do formula_256, so: formula_267 which results in the equation: formula_268 whose roots are: formula_269 we can only admit: formula_260, consequently: formula_271 replacing the variables \"x\" with \"y\" and \"t\" with \"x\", we have the inverse of formula_272 which is: considering the formulas deduced above, we have: formula_275 from which we deduce: formula_276 formula_277 resulting: and for formula_279 from which we deduce: formula_280 formula_281 and finally: the integrals of these functions need a different treatment, using the methods of the next chapter: integration techniques, I propose that and the reader makes them as an exercise of the same. considering formula_284, we have: formula_285 if formula_286: formula_287 which results in the equation: formula_288 whose roots are: formula_289 where we can only admit formula_290 and formula_291: formula_292 replacing \"x\" with \"y\" and \"t\" with \"x\": formula_293 that is the inverse of formula_294, therefore: considering formula_299, we have: formula_300 if formula_286: formula_302 which results in the equation: formula_303 whose roots are: formula_304 where we can only admit formula_290 and formula_306: formula_307 replacing \"x\" with \"y\" and \"t \" by \"x\": formula_308 which is the inverse of formula_309, so: be formula_312 formula_313, formula_314 we deduce that its derivative is: formula_315 which, after being subjected to the chain rule and reason, becomes: formula_316 formula_317 formula_318 and finally : note that due to the domain limitation imposed by the variable in the primitive function, the derivative inherits the same limitation, since the function does not exist outside this domain. be formula_321 formula_322, we deduce that its derivative is: formula_323 which, after being subjected to the chain rule and reason, becomes: formula_324 formula_325 formula_326 and, finally: the integrals of these functions need a different treatment, using the methods of next chapter: integration techniques, I propose that the reader do them as an exercise of the same. considering formula_328, we have: formula_329 if formula_286: formula_331 which results in the equation: formula_332 whose roots are: formula_333 where we can only admit formula_290 and formula_291: formula_336 replacing \"x\" with \"y\" and \"t\" with \"x\": formula_337 that is the inverse of formula_338, therefore: considering formula_343, we have: formula_344 if formula_286: formula_346 which results in the equation: formula_347 whose roots are: formula_348 where we can only admit formula_290: formula_350 replacing \"x\" with \"y\" and \"t\" with \"x\": formula_351 which is the inverse of formula_352, so: either formula_354 formula_355, formula_156 we deduce that its derivative is: formula_357 which, after being subjected to the chain and ratio rule, becomes: formula_358 formula_359 formula_360 and finally: note that, due to the limitation of the domain imposed by the variable in the primitive function, the derivative inherits the same limitation, since the function does not exist outside this domain. be formula_363 formula_364, we deduce that its derivative is: formula_365 which, after being subjected to the chain rule and reason, becomes: formula_366 formula_367 formula_368 and, finally: the integrals of these functions need a different treatment, using the methods of next chapter: integration techniques, I propose that the reader do them as an exercise of the same. --> Text length need to be between 1 and 5000 characters",
     "output_type": "error",
     "traceback": [
      "\u001b[0;31m---------------------------------------------------------------------------\u001b[0m",
      "\u001b[0;31mNotValidLength\u001b[0m                            Traceback (most recent call last)",
      "Input \u001b[0;32mIn [28]\u001b[0m, in \u001b[0;36m<module>\u001b[0;34m\u001b[0m\n\u001b[1;32m      3\u001b[0m \u001b[38;5;28;01mfor\u001b[39;00m text \u001b[38;5;129;01min\u001b[39;00m X_test:\n\u001b[1;32m      4\u001b[0m     translated \u001b[38;5;241m=\u001b[39m GoogleTranslator(source\u001b[38;5;241m=\u001b[39m\u001b[38;5;124m'\u001b[39m\u001b[38;5;124mpt\u001b[39m\u001b[38;5;124m'\u001b[39m, target\u001b[38;5;241m=\u001b[39m\u001b[38;5;124m'\u001b[39m\u001b[38;5;124men\u001b[39m\u001b[38;5;124m'\u001b[39m)\u001b[38;5;241m.\u001b[39mtranslate(text)\n\u001b[0;32m----> 5\u001b[0m     back_translated \u001b[38;5;241m=\u001b[39m \u001b[43mGoogleTranslator\u001b[49m\u001b[43m(\u001b[49m\u001b[43msource\u001b[49m\u001b[38;5;241;43m=\u001b[39;49m\u001b[38;5;124;43m'\u001b[39;49m\u001b[38;5;124;43men\u001b[39;49m\u001b[38;5;124;43m'\u001b[39;49m\u001b[43m,\u001b[49m\u001b[43m \u001b[49m\u001b[43mtarget\u001b[49m\u001b[38;5;241;43m=\u001b[39;49m\u001b[38;5;124;43m'\u001b[39;49m\u001b[38;5;124;43mpt\u001b[39;49m\u001b[38;5;124;43m'\u001b[39;49m\u001b[43m)\u001b[49m\u001b[38;5;241;43m.\u001b[39;49m\u001b[43mtranslate\u001b[49m\u001b[43m(\u001b[49m\u001b[43mtranslated\u001b[49m\u001b[43m)\u001b[49m\n\u001b[1;32m      6\u001b[0m     X_test_trans\u001b[38;5;241m.\u001b[39mappend(back_translated)\n",
      "File \u001b[0;32m~/miniconda3/envs/caed/lib/python3.8/site-packages/deep_translator/google_trans.py:110\u001b[0m, in \u001b[0;36mGoogleTranslator.translate\u001b[0;34m(self, text, **kwargs)\u001b[0m\n\u001b[1;32m    103\u001b[0m \u001b[38;5;28;01mdef\u001b[39;00m \u001b[38;5;21mtranslate\u001b[39m(\u001b[38;5;28mself\u001b[39m, text, \u001b[38;5;241m*\u001b[39m\u001b[38;5;241m*\u001b[39mkwargs):\n\u001b[1;32m    104\u001b[0m     \u001b[38;5;124;03m\"\"\"\u001b[39;00m\n\u001b[1;32m    105\u001b[0m \u001b[38;5;124;03m    function that uses google translate to translate a text\u001b[39;00m\n\u001b[1;32m    106\u001b[0m \u001b[38;5;124;03m    @param text: desired text to translate\u001b[39;00m\n\u001b[1;32m    107\u001b[0m \u001b[38;5;124;03m    @return: str: translated text\u001b[39;00m\n\u001b[1;32m    108\u001b[0m \u001b[38;5;124;03m    \"\"\"\u001b[39;00m\n\u001b[0;32m--> 110\u001b[0m     \u001b[38;5;28;01mif\u001b[39;00m \u001b[38;5;28;43mself\u001b[39;49m\u001b[38;5;241;43m.\u001b[39;49m\u001b[43m_validate_payload\u001b[49m\u001b[43m(\u001b[49m\u001b[43mtext\u001b[49m\u001b[43m)\u001b[49m:\n\u001b[1;32m    111\u001b[0m         text \u001b[38;5;241m=\u001b[39m text\u001b[38;5;241m.\u001b[39mstrip()\n\u001b[1;32m    113\u001b[0m         \u001b[38;5;28;01mif\u001b[39;00m \u001b[38;5;28mself\u001b[39m\u001b[38;5;241m.\u001b[39mpayload_key:\n",
      "File \u001b[0;32m~/miniconda3/envs/caed/lib/python3.8/site-packages/deep_translator/parent.py:55\u001b[0m, in \u001b[0;36mBaseTranslator._validate_payload\u001b[0;34m(payload, min_chars, max_chars)\u001b[0m\n\u001b[1;32m     52\u001b[0m     \u001b[38;5;28;01mraise\u001b[39;00m NotValidPayload(payload)\n\u001b[1;32m     54\u001b[0m \u001b[38;5;28;01mif\u001b[39;00m \u001b[38;5;129;01mnot\u001b[39;00m BaseTranslator\u001b[38;5;241m.\u001b[39m__check_length(payload, min_chars, max_chars):\n\u001b[0;32m---> 55\u001b[0m     \u001b[38;5;28;01mraise\u001b[39;00m NotValidLength(payload, min_chars, max_chars)\n\u001b[1;32m     56\u001b[0m \u001b[38;5;28;01mreturn\u001b[39;00m \u001b[38;5;28;01mTrue\u001b[39;00m\n",
      "\u001b[0;31mNotValidLength\u001b[0m: the inverse hyperbolic functions are particularly interesting, they are linked to the natural logarithm and for this reason, their analysis is essentially exponential, like the analysis of hyperbolic functions, this fact gives rise to new possibilities to deal with problems related to the analysis of non-linear structures. hyperbolic functions are characteristically analyzed in a similar way to trigonometric ones, which suggests the analysis of the inversion of variables from hyperbolic equations of the form: formula_251, to the form: formula_252 this is particularly easy to implement for functions of type formula_253, which are functions monotonous and continuous, for the others that restrict their continuity in a certain interval, we must adopt bands for the domain of each one in particular. It is important to note that, although hyperbolic functions are similar to trigonometric functions, these functions are based on angles that must be analyzed differently from trigonometric ones, remember that the radius of a circular function is constant, which does not happen with a function based on a conic, in this case the hyperbola, that's why we chose the name \"argfunch(x) \", because we can't classify the hyperbolic angles as arcs. now let's consider the function formula_254, then: formula_255 we can do formula_256, so: formula_257 which results in the equation: formula_258 whose roots are: formula_259 we can only admit: formula_260, hence: formula_261 replacing the variables \"x\" with \"y\" and \"t \" by \"x\", we have the inverse of formula_253 which is: in the case of formula_264, the deduction is similar: formula_265 we can do formula_256, so: formula_267 which results in the equation: formula_268 whose roots are: formula_269 we can only admit: formula_260, consequently: formula_271 replacing the variables \"x\" with \"y\" and \"t\" with \"x\", we have the inverse of formula_272 which is: considering the formulas deduced above, we have: formula_275 from which we deduce: formula_276 formula_277 resulting: and for formula_279 from which we deduce: formula_280 formula_281 and finally: the integrals of these functions need a different treatment, using the methods of the next chapter: integration techniques, I propose that and the reader makes them as an exercise of the same. considering formula_284, we have: formula_285 if formula_286: formula_287 which results in the equation: formula_288 whose roots are: formula_289 where we can only admit formula_290 and formula_291: formula_292 replacing \"x\" with \"y\" and \"t\" with \"x\": formula_293 that is the inverse of formula_294, therefore: considering formula_299, we have: formula_300 if formula_286: formula_302 which results in the equation: formula_303 whose roots are: formula_304 where we can only admit formula_290 and formula_306: formula_307 replacing \"x\" with \"y\" and \"t \" by \"x\": formula_308 which is the inverse of formula_309, so: be formula_312 formula_313, formula_314 we deduce that its derivative is: formula_315 which, after being subjected to the chain rule and reason, becomes: formula_316 formula_317 formula_318 and finally : note that due to the domain limitation imposed by the variable in the primitive function, the derivative inherits the same limitation, since the function does not exist outside this domain. be formula_321 formula_322, we deduce that its derivative is: formula_323 which, after being subjected to the chain rule and reason, becomes: formula_324 formula_325 formula_326 and, finally: the integrals of these functions need a different treatment, using the methods of next chapter: integration techniques, I propose that the reader do them as an exercise of the same. considering formula_328, we have: formula_329 if formula_286: formula_331 which results in the equation: formula_332 whose roots are: formula_333 where we can only admit formula_290 and formula_291: formula_336 replacing \"x\" with \"y\" and \"t\" with \"x\": formula_337 that is the inverse of formula_338, therefore: considering formula_343, we have: formula_344 if formula_286: formula_346 which results in the equation: formula_347 whose roots are: formula_348 where we can only admit formula_290: formula_350 replacing \"x\" with \"y\" and \"t\" with \"x\": formula_351 which is the inverse of formula_352, so: either formula_354 formula_355, formula_156 we deduce that its derivative is: formula_357 which, after being subjected to the chain and ratio rule, becomes: formula_358 formula_359 formula_360 and finally: note that, due to the limitation of the domain imposed by the variable in the primitive function, the derivative inherits the same limitation, since the function does not exist outside this domain. be formula_363 formula_364, we deduce that its derivative is: formula_365 which, after being subjected to the chain rule and reason, becomes: formula_366 formula_367 formula_368 and, finally: the integrals of these functions need a different treatment, using the methods of next chapter: integration techniques, I propose that the reader do them as an exercise of the same. --> Text length need to be between 1 and 5000 characters"
     ]
    }
   ],
   "source": [
    "X_test_trans = []\n",
    "\n",
    "for text in X_test:\n",
    "    translated = GoogleTranslator(source='pt', target='en').translate(text)\n",
    "    if len(translated) < 5000:\n",
    "        back_translated = GoogleTranslator(source='en', target='pt').translate(translated)\n",
    "        X_test_trans.append(back_translated)\n",
    "    else:\n",
    "        X_test_trans.append(text)"
   ]
  },
  {
   "cell_type": "code",
   "execution_count": 31,
   "id": "ee694487",
   "metadata": {},
   "outputs": [
    {
     "data": {
      "text/plain": [
       "519"
      ]
     },
     "execution_count": 31,
     "metadata": {},
     "output_type": "execute_result"
    }
   ],
   "source": [
    "len(X_test)"
   ]
  },
  {
   "cell_type": "code",
   "execution_count": 30,
   "id": "cdceed94",
   "metadata": {
    "scrolled": true
   },
   "outputs": [
    {
     "data": {
      "text/plain": [
       "69"
      ]
     },
     "execution_count": 30,
     "metadata": {},
     "output_type": "execute_result"
    }
   ],
   "source": [
    "len(X_test_trans)"
   ]
  },
  {
   "cell_type": "code",
   "execution_count": 33,
   "id": "3ef823c8",
   "metadata": {},
   "outputs": [
    {
     "name": "stdout",
     "output_type": "stream",
     "text": [
      "SVC accuracy (original): 0.95\n"
     ]
    },
    {
     "ename": "ValueError",
     "evalue": "Found input variables with inconsistent numbers of samples: [519, 69]",
     "output_type": "error",
     "traceback": [
      "\u001b[0;31m---------------------------------------------------------------------------\u001b[0m",
      "\u001b[0;31mValueError\u001b[0m                                Traceback (most recent call last)",
      "Input \u001b[0;32mIn [33]\u001b[0m, in \u001b[0;36m<module>\u001b[0;34m\u001b[0m\n\u001b[1;32m      2\u001b[0m predictions_NBtrans \u001b[38;5;241m=\u001b[39m pipeSVC\u001b[38;5;241m.\u001b[39mpredict(X_test_trans)\n\u001b[1;32m      4\u001b[0m \u001b[38;5;28mprint\u001b[39m(\u001b[38;5;124mf\u001b[39m\u001b[38;5;124m'\u001b[39m\u001b[38;5;124mSVC accuracy (original): \u001b[39m\u001b[38;5;132;01m{\u001b[39;00maccuracy_score(y_test, predictions_NB)\u001b[38;5;132;01m:\u001b[39;00m\u001b[38;5;124m.2f\u001b[39m\u001b[38;5;132;01m}\u001b[39;00m\u001b[38;5;124m'\u001b[39m)\n\u001b[0;32m----> 5\u001b[0m \u001b[38;5;28mprint\u001b[39m(\u001b[38;5;124mf\u001b[39m\u001b[38;5;124m'\u001b[39m\u001b[38;5;124mSVC accuracy (back_translated): \u001b[39m\u001b[38;5;132;01m{\u001b[39;00maccuracy_score(y_test, predictions_NBtrans)\u001b[38;5;132;01m:\u001b[39;00m\u001b[38;5;124m.2f\u001b[39m\u001b[38;5;132;01m}\u001b[39;00m\u001b[38;5;124m'\u001b[39m)\n\u001b[1;32m      7\u001b[0m predictions_SVC \u001b[38;5;241m=\u001b[39m pipeSVC\u001b[38;5;241m.\u001b[39mpredict(X_test)\n\u001b[1;32m      8\u001b[0m predictions_SVCtrans \u001b[38;5;241m=\u001b[39m pipeSVC\u001b[38;5;241m.\u001b[39mpredict(X_test_trans)\n",
      "File \u001b[0;32m~/miniconda3/envs/caed/lib/python3.8/site-packages/sklearn/utils/validation.py:72\u001b[0m, in \u001b[0;36m_deprecate_positional_args.<locals>.inner_f\u001b[0;34m(*args, **kwargs)\u001b[0m\n\u001b[1;32m     67\u001b[0m     warnings\u001b[38;5;241m.\u001b[39mwarn(\u001b[38;5;124m\"\u001b[39m\u001b[38;5;124mPass \u001b[39m\u001b[38;5;132;01m{}\u001b[39;00m\u001b[38;5;124m as keyword args. From version 0.25 \u001b[39m\u001b[38;5;124m\"\u001b[39m\n\u001b[1;32m     68\u001b[0m                   \u001b[38;5;124m\"\u001b[39m\u001b[38;5;124mpassing these as positional arguments will \u001b[39m\u001b[38;5;124m\"\u001b[39m\n\u001b[1;32m     69\u001b[0m                   \u001b[38;5;124m\"\u001b[39m\u001b[38;5;124mresult in an error\u001b[39m\u001b[38;5;124m\"\u001b[39m\u001b[38;5;241m.\u001b[39mformat(\u001b[38;5;124m\"\u001b[39m\u001b[38;5;124m, \u001b[39m\u001b[38;5;124m\"\u001b[39m\u001b[38;5;241m.\u001b[39mjoin(args_msg)),\n\u001b[1;32m     70\u001b[0m                   \u001b[38;5;167;01mFutureWarning\u001b[39;00m)\n\u001b[1;32m     71\u001b[0m kwargs\u001b[38;5;241m.\u001b[39mupdate({k: arg \u001b[38;5;28;01mfor\u001b[39;00m k, arg \u001b[38;5;129;01min\u001b[39;00m \u001b[38;5;28mzip\u001b[39m(sig\u001b[38;5;241m.\u001b[39mparameters, args)})\n\u001b[0;32m---> 72\u001b[0m \u001b[38;5;28;01mreturn\u001b[39;00m \u001b[43mf\u001b[49m\u001b[43m(\u001b[49m\u001b[38;5;241;43m*\u001b[39;49m\u001b[38;5;241;43m*\u001b[39;49m\u001b[43mkwargs\u001b[49m\u001b[43m)\u001b[49m\n",
      "File \u001b[0;32m~/miniconda3/envs/caed/lib/python3.8/site-packages/sklearn/metrics/_classification.py:187\u001b[0m, in \u001b[0;36maccuracy_score\u001b[0;34m(y_true, y_pred, normalize, sample_weight)\u001b[0m\n\u001b[1;32m    127\u001b[0m \u001b[38;5;124;03m\"\"\"Accuracy classification score.\u001b[39;00m\n\u001b[1;32m    128\u001b[0m \n\u001b[1;32m    129\u001b[0m \u001b[38;5;124;03mIn multilabel classification, this function computes subset accuracy:\u001b[39;00m\n\u001b[0;32m   (...)\u001b[0m\n\u001b[1;32m    183\u001b[0m \u001b[38;5;124;03m0.5\u001b[39;00m\n\u001b[1;32m    184\u001b[0m \u001b[38;5;124;03m\"\"\"\u001b[39;00m\n\u001b[1;32m    186\u001b[0m \u001b[38;5;66;03m# Compute accuracy for each possible representation\u001b[39;00m\n\u001b[0;32m--> 187\u001b[0m y_type, y_true, y_pred \u001b[38;5;241m=\u001b[39m \u001b[43m_check_targets\u001b[49m\u001b[43m(\u001b[49m\u001b[43my_true\u001b[49m\u001b[43m,\u001b[49m\u001b[43m \u001b[49m\u001b[43my_pred\u001b[49m\u001b[43m)\u001b[49m\n\u001b[1;32m    188\u001b[0m check_consistent_length(y_true, y_pred, sample_weight)\n\u001b[1;32m    189\u001b[0m \u001b[38;5;28;01mif\u001b[39;00m y_type\u001b[38;5;241m.\u001b[39mstartswith(\u001b[38;5;124m'\u001b[39m\u001b[38;5;124mmultilabel\u001b[39m\u001b[38;5;124m'\u001b[39m):\n",
      "File \u001b[0;32m~/miniconda3/envs/caed/lib/python3.8/site-packages/sklearn/metrics/_classification.py:81\u001b[0m, in \u001b[0;36m_check_targets\u001b[0;34m(y_true, y_pred)\u001b[0m\n\u001b[1;32m     54\u001b[0m \u001b[38;5;28;01mdef\u001b[39;00m \u001b[38;5;21m_check_targets\u001b[39m(y_true, y_pred):\n\u001b[1;32m     55\u001b[0m     \u001b[38;5;124;03m\"\"\"Check that y_true and y_pred belong to the same classification task\u001b[39;00m\n\u001b[1;32m     56\u001b[0m \n\u001b[1;32m     57\u001b[0m \u001b[38;5;124;03m    This converts multiclass or binary types to a common shape, and raises a\u001b[39;00m\n\u001b[0;32m   (...)\u001b[0m\n\u001b[1;32m     79\u001b[0m \u001b[38;5;124;03m    y_pred : array or indicator matrix\u001b[39;00m\n\u001b[1;32m     80\u001b[0m \u001b[38;5;124;03m    \"\"\"\u001b[39;00m\n\u001b[0;32m---> 81\u001b[0m     \u001b[43mcheck_consistent_length\u001b[49m\u001b[43m(\u001b[49m\u001b[43my_true\u001b[49m\u001b[43m,\u001b[49m\u001b[43m \u001b[49m\u001b[43my_pred\u001b[49m\u001b[43m)\u001b[49m\n\u001b[1;32m     82\u001b[0m     type_true \u001b[38;5;241m=\u001b[39m type_of_target(y_true)\n\u001b[1;32m     83\u001b[0m     type_pred \u001b[38;5;241m=\u001b[39m type_of_target(y_pred)\n",
      "File \u001b[0;32m~/miniconda3/envs/caed/lib/python3.8/site-packages/sklearn/utils/validation.py:255\u001b[0m, in \u001b[0;36mcheck_consistent_length\u001b[0;34m(*arrays)\u001b[0m\n\u001b[1;32m    253\u001b[0m uniques \u001b[38;5;241m=\u001b[39m np\u001b[38;5;241m.\u001b[39munique(lengths)\n\u001b[1;32m    254\u001b[0m \u001b[38;5;28;01mif\u001b[39;00m \u001b[38;5;28mlen\u001b[39m(uniques) \u001b[38;5;241m>\u001b[39m \u001b[38;5;241m1\u001b[39m:\n\u001b[0;32m--> 255\u001b[0m     \u001b[38;5;28;01mraise\u001b[39;00m \u001b[38;5;167;01mValueError\u001b[39;00m(\u001b[38;5;124m\"\u001b[39m\u001b[38;5;124mFound input variables with inconsistent numbers of\u001b[39m\u001b[38;5;124m\"\u001b[39m\n\u001b[1;32m    256\u001b[0m                      \u001b[38;5;124m\"\u001b[39m\u001b[38;5;124m samples: \u001b[39m\u001b[38;5;132;01m%r\u001b[39;00m\u001b[38;5;124m\"\u001b[39m \u001b[38;5;241m%\u001b[39m [\u001b[38;5;28mint\u001b[39m(l) \u001b[38;5;28;01mfor\u001b[39;00m l \u001b[38;5;129;01min\u001b[39;00m lengths])\n",
      "\u001b[0;31mValueError\u001b[0m: Found input variables with inconsistent numbers of samples: [519, 69]"
     ]
    }
   ],
   "source": [
    "predictions_NB = pipeSVC.predict(X_test)\n",
    "predictions_NBtrans = pipeSVC.predict(X_test_trans)\n",
    "\n",
    "print(f'SVC accuracy (original): {accuracy_score(y_test, predictions_NB):.2f}')\n",
    "print(f'SVC accuracy (back_translated): {accuracy_score(y_test, predictions_NBtrans):.2f}')\n",
    "\n",
    "predictions_SVC = pipeSVC.predict(X_test)\n",
    "predictions_SVCtrans = pipeSVC.predict(X_test_trans)\n",
    "\n",
    "print(f'SVC accuracy (original): {accuracy_score(y_test, predictions_SVC):.2f}')\n",
    "print(f'SVC accuracy (back_translated): {accuracy_score(y_test, predictions_SVCtrans):.2f}')"
   ]
  },
  {
   "cell_type": "code",
   "execution_count": null,
   "id": "5840a04e",
   "metadata": {},
   "outputs": [],
   "source": []
  }
 ],
 "metadata": {
  "kernelspec": {
   "display_name": "Python 3",
   "language": "python",
   "name": "python3"
  },
  "language_info": {
   "codemirror_mode": {
    "name": "ipython",
    "version": 3
   },
   "file_extension": ".py",
   "mimetype": "text/x-python",
   "name": "python",
   "nbconvert_exporter": "python",
   "pygments_lexer": "ipython3",
   "version": "3.8.5"
  }
 },
 "nbformat": 4,
 "nbformat_minor": 5
}
